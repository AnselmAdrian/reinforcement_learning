{
 "cells": [
  {
   "cell_type": "code",
   "execution_count": null,
   "metadata": {},
   "outputs": [],
   "source": [
    "# Initial imports and enviroment setup\n",
    "import numpy as np\n",
    "import sys\n",
    "import seaborn as sns\n",
    "import random\n",
    "import time\n",
    "\n",
    "import matplotlib.pyplot as plt\n",
    "import plotly.express as px\n",
    "import plotly.graph_objects as go\n",
    "import plotly.io as pio\n",
    "from collections import defaultdict\n",
    "pio.renderers.default = 'notebook_connected'\n",
    "\n",
    "import os\n",
    "sns.set()\n",
    "\n",
    "os.environ[\"SDL_VIDEODRIVER\"] = \"dummy\"\n",
    "from IPython.display import clear_output\n",
    "\n",
    "if 'notebook' in os.getcwd():\n",
    "    os.chdir('..')\n",
    "\n",
    "import gym\n",
    "import gym.envs.toy_text\n",
    "import copy "
   ]
  },
  {
   "cell_type": "markdown",
   "metadata": {},
   "source": [
    "# Temporal Differencing (TD)"
   ]
  },
  {
   "cell_type": "markdown",
   "metadata": {},
   "source": [
    "An approach that combines the benifits of Dynamic Programming (DP) and Monte Carlo (MC) by using bootstrapping from DP and the sample-based approach from MC. Below is the implementation of TD(0) where the 0 refers to one less than how many future states are discounted.\n",
    "\n",
    "$$ V'(s) = V(s) + \\alpha[R + \\lambda V(s') - V(s)]$$\n",
    "$$ Q'(s,a) = Q(s,a) + \\alpha[R + \\lambda Q(s',a') - Q(s',a')]$$\n",
    "\n",
    "where:\n",
    "- $V(s)$: Current value of a state\n",
    "- $V'(s)$: New value of a state\n",
    "- $s$: current state\n",
    "- $s'$: next state after an action is taken\n",
    "- $\\alpha$: learning rate\n",
    "- $a$: action\n",
    "- $\\lambda$: discount factor"
   ]
  },
  {
   "cell_type": "markdown",
   "metadata": {},
   "source": [
    "# Cart Pole Environment"
   ]
  },
  {
   "cell_type": "code",
   "execution_count": null,
   "metadata": {},
   "outputs": [],
   "source": [
    "env = gym.make(\"CartPole-v1\")\n",
    "print('Action Space:', env.action_space)\n",
    "print('Observation Space:', env.observation_space)"
   ]
  },
  {
   "cell_type": "code",
   "execution_count": null,
   "metadata": {},
   "outputs": [],
   "source": [
    "def discretize_observation(x):\n",
    "    \"\"\"Discretizes the observation space to a fixed number of bins. Please change me\"\"\"\n",
    "    \n",
    "    x = np.clip(x, -10_000, 10_000)\n",
    "    x_max = np.clip(env.observation_space.high, -10_000, 10_000)\n",
    "    x_min = np.clip(env.observation_space.low, -10_000, 10_000)\n",
    "    \n",
    "    x = (x - x_min) / (x_max - x_min)\n",
    "    \n",
    "    return tuple([int(xi * 100) for xi in x])"
   ]
  },
  {
   "cell_type": "code",
   "execution_count": null,
   "metadata": {},
   "outputs": [],
   "source": [
    "discretize_observation(env.reset())"
   ]
  },
  {
   "cell_type": "markdown",
   "metadata": {},
   "source": [
    "# State-Actio-Reward-State-Action (SARSA)"
   ]
  },
  {
   "cell_type": "markdown",
   "metadata": {},
   "source": [
    "This is in on-policy control algorithm. It sample step by step and updates the Q values where the learning rate can be controlled. "
   ]
  },
  {
   "cell_type": "code",
   "execution_count": null,
   "metadata": {},
   "outputs": [],
   "source": [
    "# SARSA Learning agent class\n",
    "\n",
    "class SARSAAgent:\n",
    "    def __init__(self, alpha, epsilon, gamma, get_possible_actions):\n",
    "        \"\"\" Implementation of a SARSA model.\n",
    "\n",
    "        Args:\n",
    "            alpha (float): Learning rate when updating the Q values.\n",
    "            epsilon (float): Probability to produce random action.\n",
    "            gamma (flaot): Discount factor\n",
    "            get_possible_actions (list): List of possible actions to return.\n",
    "        \"\"\"\n",
    "        self.get_possible_actions = get_possible_actions\n",
    "        self.alpha = alpha\n",
    "        self.epsilon = epsilon\n",
    "        self.gamma = gamma\n",
    "        self._Q = defaultdict(lambda: defaultdict(lambda: 0)) # Q-values of unseen state-action pairs default to 0.\n",
    "\n",
    "    def get_Q(self, state, action):\n",
    "        return self._Q[state][action]\n",
    "\n",
    "    def set_Q(self, state, action, value):\n",
    "        self._Q[state][action] = value\n",
    "\n",
    "    # carryout SARSA updated based on the sample (S, A, R, S', A')\n",
    "    def update(self, state, action, reward, next_state, next_action, done):\n",
    "        # Implement temporal differencing\n",
    "        if not done:\n",
    "            # Calculate future discounted reward\n",
    "            td_error = reward + \\\n",
    "                       self.gamma * self.get_Q(next_state, next_action) - \\\n",
    "                       self.get_Q(state, action)\n",
    "        else:\n",
    "            # No future discounter reward\n",
    "            td_error = reward - self.get_Q(state, action)\n",
    "\n",
    "        # Update Q-value\n",
    "        new_value = self.get_Q(state, action) + self.alpha * td_error\n",
    "        self.set_Q(state, action, new_value)\n",
    "\n",
    "    # get argmax for q(s,a)\n",
    "    def max_action(self, state):\n",
    "        actions = self.get_possible_actions(state)\n",
    "        best_action = []\n",
    "        best_q_value = float(\"-inf\")\n",
    "\n",
    "        for action in actions:\n",
    "            q_s_a = self.get_Q(state, action)\n",
    "            if q_s_a > best_q_value:\n",
    "                best_action = [action]\n",
    "                best_q_value = q_s_a\n",
    "            elif q_s_a == best_q_value:\n",
    "                best_action.append(action)\n",
    "        return np.random.choice(np.array(best_action))\n",
    "\n",
    "    # choose action as per epsilon-greedy policy\n",
    "    def get_action(self, state):\n",
    "        actions = self.get_possible_actions(state)\n",
    "\n",
    "        if len(actions) == 0:\n",
    "            return None\n",
    "\n",
    "        if np.random.random() < self.epsilon:\n",
    "            a = np.random.choice(actions)\n",
    "            return a\n",
    "        else:\n",
    "            a = self.max_action(state)\n",
    "            return a"
   ]
  },
  {
   "cell_type": "code",
   "execution_count": null,
   "metadata": {},
   "outputs": [],
   "source": [
    "# training algorithm\n",
    "def train_sarsa_agent(env, agent, episode_cnt=10000, tmax=10000, anneal_eps=True):\n",
    "    episode_rewards = []\n",
    "    for i in range(episode_cnt):\n",
    "        G = 0\n",
    "        state = env.reset()\n",
    "        state = discretize_observation(state)\n",
    "        action = agent.get_action(state)\n",
    "        for t in range(tmax):\n",
    "            next_state, reward, done, _ = env.step(action)\n",
    "            next_state = discretize_observation(next_state)\n",
    "            \n",
    "            next_action = agent.get_action(next_state)\n",
    "            agent.update(state, action, reward, next_state, next_action, done)\n",
    "            G += reward\n",
    "            if done:\n",
    "                episode_rewards.append(G)\n",
    "                # to reduce the exploration probability epsilon over the\n",
    "                # training period.\n",
    "                if anneal_eps:\n",
    "                    agent.epsilon = agent.epsilon * 0.99\n",
    "                break\n",
    "            state = next_state\n",
    "            action = next_action\n",
    "    return np.array(episode_rewards)"
   ]
  },
  {
   "cell_type": "code",
   "execution_count": null,
   "metadata": {},
   "outputs": [],
   "source": [
    "# plot rewards\n",
    "def plot_rewards(env_name, rewards, label, n = 20):\n",
    "    plt.title(\"env={}, Mean reward = {:.1f}\".format(env_name,\n",
    "                                                    np.mean(rewards[-n:])))\n",
    "    rewards_mean = np.array([np.nan] * len(rewards))\n",
    "    for i in range(n,len(rewards)):\n",
    "        rewards_mean[i] = rewards[i-n:i].mean()\n",
    "    plt.plot(rewards, label=label)\n",
    "    plt.plot(rewards_mean, label=label + '_mean')\n",
    "    plt.grid()\n",
    "    plt.legend()\n",
    "    plt.show()"
   ]
  },
  {
   "cell_type": "code",
   "execution_count": null,
   "metadata": {},
   "outputs": [],
   "source": [
    "# create a SARSA agent\n",
    "sarsa_agent = SARSAAgent(\n",
    "            alpha=0.2,\n",
    "            epsilon=0.2,\n",
    "            gamma=0.995,\n",
    "            get_possible_actions=lambda s : range(env.action_space.n)\n",
    "        )\n",
    "\n",
    "#train agent and get rewards for episodes\n",
    "rewards = train_sarsa_agent(env, sarsa_agent, episode_cnt = 1000)"
   ]
  },
  {
   "cell_type": "code",
   "execution_count": null,
   "metadata": {},
   "outputs": [],
   "source": [
    "len(sarsa_agent._Q)"
   ]
  },
  {
   "cell_type": "code",
   "execution_count": null,
   "metadata": {},
   "outputs": [],
   "source": [
    "# plot rewards\n",
    "plot_rewards(\"Cart Pole V1\", rewards, 'SARSA')"
   ]
  },
  {
   "cell_type": "code",
   "execution_count": null,
   "metadata": {},
   "outputs": [],
   "source": [
    "tmax = 10000\n",
    "G = 0\n",
    "\n",
    "env_run = copy.deepcopy(env)\n",
    "state = env_run.reset()\n",
    "sarsa_agent.epsilon = 0.0\n",
    "\n",
    "for t in range(tmax):\n",
    "    state = discretize_observation(state)\n",
    "    action = sarsa_agent.get_action(state)\n",
    "    \n",
    "    env_run.render(mode = 'human')\n",
    "    next_state, reward, done, _ = env_run.step(action)\n",
    "    G += reward\n",
    "    if done:\n",
    "        break\n",
    "\n",
    "    time.sleep(0.1)\n",
    "\n",
    "print(f'lasted for {t} steps')\n",
    "env_run.close()"
   ]
  },
  {
   "cell_type": "markdown",
   "metadata": {},
   "source": [
    "# Q-Learning"
   ]
  },
  {
   "cell_type": "markdown",
   "metadata": {},
   "source": [
    "This is in on-policy control algorithm. It sample step by step and updates the Q values where the learning rate can be controlled. "
   ]
  },
  {
   "cell_type": "code",
   "execution_count": null,
   "metadata": {},
   "outputs": [],
   "source": [
    "class QLearningAgent:\n",
    "    def __init__(self, alpha, epsilon, gamma, get_possible_actions):\n",
    "        \"\"\" Implementation of a Q-learning model.\n",
    "\n",
    "        Args:\n",
    "            alpha (float): Learning rate when updating the Q values.\n",
    "            epsilon (float): Probability to produce random action.\n",
    "            gamma (flaot): Discount factor\n",
    "            get_possible_actions (list): List of possible actions to return.\n",
    "        \"\"\"\n",
    "        self.get_possible_actions = get_possible_actions\n",
    "        self.alpha = alpha\n",
    "        self.epsilon = epsilon\n",
    "        self.gamma = gamma\n",
    "        self._Q = defaultdict(lambda: defaultdict(lambda: 0))\n",
    "\n",
    "    def get_Q(self, state, action):\n",
    "        return self._Q[state][action]\n",
    "\n",
    "    def set_Q(self, state, action, value):\n",
    "        self._Q[state][action] = value\n",
    "\n",
    "    # Q learning update step\n",
    "    def update(self, state, action, reward, next_state, done):\n",
    "        if not done:\n",
    "            best_next_action = self.max_action(next_state)\n",
    "            td_error = reward + \\\n",
    "                       self.gamma * self.get_Q(next_state, best_next_action) \\\n",
    "                       - self.get_Q(state, action)\n",
    "        else:\n",
    "            td_error = reward - self.get_Q(state, action)\n",
    "\n",
    "        new_value = self.get_Q(state, action) + self.alpha * td_error\n",
    "        self.set_Q(state, action, new_value)\n",
    "\n",
    "    # get best A for Q(S,A) which maximizes the Q(S,a) for actions in state S\n",
    "    def max_action(self, state):\n",
    "        actions = self.get_possible_actions(state)\n",
    "        best_action = []\n",
    "        best_q_value = float(\"-inf\")\n",
    "\n",
    "        for action in actions:\n",
    "            q_s_a = self.get_Q(state, action)\n",
    "            if q_s_a > best_q_value:\n",
    "                best_action = [action]\n",
    "                best_q_value = q_s_a\n",
    "            elif q_s_a == best_q_value:\n",
    "                best_action.append(action)\n",
    "        return np.random.choice(np.array(best_action))\n",
    "\n",
    "    # choose action as per epsilon-greedy policy for exploration\n",
    "    def get_action(self, state):\n",
    "        actions = self.get_possible_actions(state)\n",
    "\n",
    "        if len(actions) == 0:\n",
    "            return None\n",
    "\n",
    "        if np.random.random() < self.epsilon:\n",
    "            a = np.random.choice(actions)\n",
    "            return a\n",
    "        else:\n",
    "            a = self.max_action(state)\n",
    "            return a"
   ]
  },
  {
   "cell_type": "code",
   "execution_count": null,
   "metadata": {},
   "outputs": [],
   "source": [
    "# training algorithm\n",
    "def train_q_agent(env, agent, episode_cnt=10000, tmax=10000, anneal_eps=0.99):\n",
    "    episode_rewards = []\n",
    "    for i in range(episode_cnt):\n",
    "        G = 0\n",
    "        state = env.reset()\n",
    "        state = discretize_observation(state)\n",
    "        for t in range(tmax):\n",
    "            action = agent.get_action(state)\n",
    "            next_state, reward, done, _ = env.step(action)\n",
    "            next_state = discretize_observation(next_state)\n",
    "            agent.update(state, action, reward, next_state, done)\n",
    "            G += reward\n",
    "            if done:\n",
    "                episode_rewards.append(G)\n",
    "                # to reduce the exploration probability epsilon over the\n",
    "                # training period.\n",
    "                agent.epsilon = agent.epsilon * anneal_eps\n",
    "                break\n",
    "            state = next_state\n",
    "    return np.array(episode_rewards)"
   ]
  },
  {
   "cell_type": "code",
   "execution_count": null,
   "metadata": {},
   "outputs": [],
   "source": [
    "# create a Q Learning agent\n",
    "q_agent = QLearningAgent(alpha=0.2, epsilon=0.2, gamma=0.995, \n",
    "                       get_possible_actions=lambda s : range(env.action_space.n))\n",
    "\n",
    "#train agent and get rewards for episodes\n",
    "rewards = train_q_agent(env, q_agent, episode_cnt = 1000)"
   ]
  },
  {
   "cell_type": "code",
   "execution_count": null,
   "metadata": {},
   "outputs": [],
   "source": [
    "len(q_agent._Q)"
   ]
  },
  {
   "cell_type": "code",
   "execution_count": null,
   "metadata": {},
   "outputs": [],
   "source": [
    "# Plot rewards\n",
    "plot_rewards(\"Cart Pole V1\",rewards, 'Q-Learning')"
   ]
  },
  {
   "cell_type": "code",
   "execution_count": null,
   "metadata": {},
   "outputs": [],
   "source": [
    "tmax = 10000\n",
    "G = 0\n",
    "\n",
    "env_run = copy.deepcopy(env)\n",
    "state = env_run.reset()\n",
    "q_agent.epsilon = 0.0\n",
    "for t in range(tmax):\n",
    "    env_run.render(mode = 'human')\n",
    "    \n",
    "    state = discretize_observation(state)\n",
    "    action = q_agent.get_action(state)\n",
    "\n",
    "    next_state, reward, done, _ = env_run.step(action)\n",
    "    G += reward\n",
    "    if done:\n",
    "        break\n",
    "    state = next_state\n",
    "\n",
    "    time.sleep(0.1)\n",
    "\n",
    "print(f'lasted for {t} steps with a score of {G}')\n",
    "env_run.close()"
   ]
  },
  {
   "cell_type": "markdown",
   "metadata": {},
   "source": [
    "## Hyperparameter tuning"
   ]
  },
  {
   "cell_type": "code",
   "execution_count": null,
   "metadata": {},
   "outputs": [],
   "source": [
    "import optuna\n",
    "from optuna.visualization import *"
   ]
  },
  {
   "cell_type": "code",
   "execution_count": null,
   "metadata": {},
   "outputs": [],
   "source": [
    "env_run = copy.deepcopy(env)"
   ]
  },
  {
   "cell_type": "code",
   "execution_count": null,
   "metadata": {},
   "outputs": [],
   "source": [
    "def objective(trial):\n",
    "    alpha = trial.suggest_float(\"alpha\", 1e-6, 5e-1) #trial.suggest_float(\"alpha\", 1e-6, 5e-1, log=True)\n",
    "    epsilon = trial.suggest_float(\"epsilon\", 1e-6, 9e-1) #trial.suggest_float(\"epsilon\", 1e-6, 9e-1, log=True)\n",
    "    anneal_eps = trial.suggest_float(\"anneal_eps\", 9e-1, 1.0, log=True)\n",
    "    \n",
    "    # create a Q Learning agent\n",
    "    q_agent = QLearningAgent(alpha=alpha, epsilon=epsilon, gamma=0.995,\n",
    "                        get_possible_actions=lambda s : range(env.action_space.n))\n",
    "\n",
    "    #train agent and get rewards for episodes\n",
    "    train_q_agent(env, q_agent, episode_cnt = 300, anneal_eps = anneal_eps)\n",
    "    \n",
    "    # Evaluate Agent\n",
    "    tmax = 10000\n",
    "    G = 0\n",
    "\n",
    "    state = env_run.reset()\n",
    "    q_agent.epsilon = -1.0\n",
    "    for t in range(tmax):\n",
    "        state = discretize_observation(state)\n",
    "        action = q_agent.get_action(state)\n",
    "\n",
    "        next_state, reward, done, _ = env_run.step(action)\n",
    "        G += reward\n",
    "        if done:\n",
    "            break\n",
    "        state = next_state\n",
    "    return G"
   ]
  },
  {
   "cell_type": "code",
   "execution_count": null,
   "metadata": {},
   "outputs": [],
   "source": [
    "study = optuna.create_study(direction = 'maximize')"
   ]
  },
  {
   "cell_type": "code",
   "execution_count": null,
   "metadata": {},
   "outputs": [],
   "source": [
    "study.optimize(objective, n_trials = 1000, n_jobs=-1)"
   ]
  },
  {
   "cell_type": "code",
   "execution_count": null,
   "metadata": {},
   "outputs": [],
   "source": [
    "fig = plot_parallel_coordinate(study)\n",
    "fig.show()"
   ]
  },
  {
   "cell_type": "code",
   "execution_count": null,
   "metadata": {},
   "outputs": [],
   "source": [
    "fig = plot_param_importances(study)\n",
    "fig.show()"
   ]
  },
  {
   "cell_type": "code",
   "execution_count": null,
   "metadata": {},
   "outputs": [],
   "source": [
    "fig = plot_contour(study)\n",
    "fig.update_layout(height = 2400, width = 1600)"
   ]
  },
  {
   "cell_type": "code",
   "execution_count": null,
   "metadata": {},
   "outputs": [],
   "source": [
    "trial = study.best_trial\n",
    "\n",
    "print('Best trial value:', trial.value)\n",
    "for key, value in trial.params.items():\n",
    "    print(f'{key} = {value},')"
   ]
  },
  {
   "cell_type": "code",
   "execution_count": null,
   "metadata": {},
   "outputs": [],
   "source": [
    "# create a Q Learning agent\n",
    "q_agent = QLearningAgent(alpha = trial.params['alpha'], epsilon = trial.params['epsilon'], gamma=0.995, \n",
    "                       get_possible_actions=lambda s : range(env.action_space.n),\n",
    "                       )\n",
    "\n",
    "#train agent and get rewards for episodes\n",
    "rewards = train_q_agent(env, q_agent, episode_cnt = 10000, anneal_eps = trial.params['anneal_eps'])\n",
    "\n",
    "# Plot rewards\n",
    "plot_rewards(\"Cart Pole V1\",rewards, 'Q-Learning')"
   ]
  },
  {
   "cell_type": "code",
   "execution_count": null,
   "metadata": {},
   "outputs": [],
   "source": [
    "tmax = 10000\n",
    "G = 0\n",
    "\n",
    "env_run = copy.deepcopy(env)\n",
    "state = env_run.reset()\n",
    "q_agent.epsilon = -1.0\n",
    "for t in range(tmax):\n",
    "    env_run.render(mode = 'human')\n",
    "    \n",
    "    state = discretize_observation(state)\n",
    "    action = q_agent.get_action(state)\n",
    "\n",
    "    next_state, reward, done, _ = env_run.step(action)\n",
    "    G += reward\n",
    "    if done:\n",
    "        break\n",
    "    state = next_state\n",
    "\n",
    "    time.sleep(0.1)\n",
    "\n",
    "print(f'lasted for {t} steps with a score of {G}')\n",
    "env_run.close()"
   ]
  },
  {
   "cell_type": "code",
   "execution_count": null,
   "metadata": {},
   "outputs": [],
   "source": []
  }
 ],
 "metadata": {
  "kernelspec": {
   "display_name": "venv",
   "language": "python",
   "name": "python3"
  },
  "language_info": {
   "codemirror_mode": {
    "name": "ipython",
    "version": 3
   },
   "file_extension": ".py",
   "mimetype": "text/x-python",
   "name": "python",
   "nbconvert_exporter": "python",
   "pygments_lexer": "ipython3",
   "version": "3.9.13"
  },
  "orig_nbformat": 4
 },
 "nbformat": 4,
 "nbformat_minor": 2
}
