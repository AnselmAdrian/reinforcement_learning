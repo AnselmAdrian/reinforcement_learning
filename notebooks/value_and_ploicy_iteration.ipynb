{
 "cells": [
  {
   "attachments": {},
   "cell_type": "markdown",
   "metadata": {},
   "source": [
    "# Import Libraries"
   ]
  },
  {
   "cell_type": "code",
   "execution_count": 1,
   "metadata": {},
   "outputs": [],
   "source": [
    "# Initial imports and enviroment setup\n",
    "import numpy as np\n",
    "import sys\n",
    "import seaborn as sns\n",
    "import matplotlib.pyplot as plt\n",
    "import plotly.express as px\n",
    "import plotly.graph_objects as go\n",
    "import plotly.io as pio\n",
    "pio.renderers.default = 'notebook_connected'\n",
    "\n",
    "import os\n",
    "sns.set()\n",
    "\n",
    "if 'notebook' in os.getcwd():\n",
    "    os.chdir('..')\n"
   ]
  },
  {
   "attachments": {},
   "cell_type": "markdown",
   "metadata": {},
   "source": [
    "# Environment setup\n",
    "Here, we will solve a gridworld problem where we can control the terminal locations (where the game ends) and reward."
   ]
  },
  {
   "cell_type": "code",
   "execution_count": 2,
   "metadata": {},
   "outputs": [],
   "source": [
    "# create grid world invironment\n",
    "from src.env.gridworld import GridworldEnv, Video_callback"
   ]
  },
  {
   "cell_type": "code",
   "execution_count": 3,
   "metadata": {},
   "outputs": [],
   "source": [
    "# Here we define the grid world by defining the size and the location of rewards\n",
    "simple_env = np.array([ [ -5,  0,  0,  0,  0, 10],\n",
    "                        [  0,  0,  0,  0,  0,  0],\n",
    "                        [  3,  0,  0, -5,  0,  0],\n",
    "                        [-10,  0,  0,  0,  0,  0]])\n",
    "rewards = simple_env.flatten()\n",
    "terminal_states = [i for i, x in enumerate(rewards) if not (x == 0)] # Terminal states are any location where the reward is not 0\n",
    "\n",
    "env = GridworldEnv(size = simple_env.shape, rewards = rewards, terminal_states = terminal_states)"
   ]
  },
  {
   "cell_type": "code",
   "execution_count": 4,
   "metadata": {},
   "outputs": [
    {
     "data": {
      "image/png": "[encoded data removed]",
      "text/plain": [
       "<Figure size 640x480 with 1 Axes>"
      ]
     },
     "metadata": {},
     "output_type": "display_data"
    }
   ],
   "source": [
    "env.grid_print(env.rewards)"
   ]
  },
  {
   "attachments": {},
   "cell_type": "markdown",
   "metadata": {},
   "source": [
    "Behold, grid world!"
   ]
  },
  {
   "attachments": {},
   "cell_type": "markdown",
   "metadata": {},
   "source": [
    "# Value Iteration"
   ]
  },
  {
   "attachments": {},
   "cell_type": "markdown",
   "metadata": {},
   "source": [
    "## A single iteration of value updates\n",
    "For each state, we update the values by checking how each action transitiona the model. For a given state, the value is updated as follows:\n",
    "- For each action given the current state, add the current reward with the discounted reward for every new state it can transition.\n",
    "- Compute the expected reward of the action.\n",
    "- Compute the expected reward over all actions given the policy.\n",
    "\n",
    "$$ V'(s) = \\sum_{a} \\pi(a|s) \\sum_{s', r} Pr(s',r|s,a)(r(s) + \\lambda V_{t}(s'))$$\n",
    "\n",
    "where:\n",
    "- $\\pi$: Policy\n",
    "- $V(s)$: Current value of a state\n",
    "- $V'(s)$: New value of a state\n",
    "- $Pr$: Probability function\n",
    "- $s$: current state\n",
    "- $s'$: next state after an action is taken\n",
    "- $a$: action\n",
    "- $\\lambda$: discount factor\n"
   ]
  },
  {
   "cell_type": "code",
   "execution_count": 5,
   "metadata": {},
   "outputs": [],
   "source": [
    "def update_values(env, V, discount_factor=1.0, verbose = 0, delta = 0, callback = None):\n",
    "    V_new = np.copy(V)\n",
    "    if verbose > 0:\n",
    "        env.grid_print(V, k=0)\n",
    "    if callback is not None:\n",
    "        callback.write(np.copy(V_new))\n",
    "    for s in range(env.nS):\n",
    "        q = np.zeros(env.nA)\n",
    "        # Look at the possible next actions\n",
    "        for a in range(env.nA):\n",
    "            # For each action, look at the possible next states\n",
    "            # to calculate q[s,a]\n",
    "            for prob, next_state, reward, done in env.P[s][a]:\n",
    "                # Calculate the value for each action as per backup diagram\n",
    "                if not done:\n",
    "                    q[a] += prob*(reward + discount_factor * V[next_state])\n",
    "                else:\n",
    "                    q[a] += prob * reward\n",
    "\n",
    "        # find the maximum value over all possible actions\n",
    "        # and store updated state value\n",
    "        V_new[s] = q.max()\n",
    "        if verbose > 0:\n",
    "            env.grid_print(V_new, k=s + 1)\n",
    "        if callback is not None:\n",
    "            callback.write(np.copy(V_new))\n",
    "        # How much our value function changed (across any states)\n",
    "        delta = max(delta, np.abs(V_new[s] - V[s]))\n",
    "    return V_new, delta"
   ]
  },
  {
   "attachments": {},
   "cell_type": "markdown",
   "metadata": {},
   "source": [
    "## 1st Iteration of value updates"
   ]
  },
  {
   "cell_type": "code",
   "execution_count": 6,
   "metadata": {},
   "outputs": [
    {
     "data": {
      "text/html": [
       "        <script type=\"text/javascript\">\n",
       "        window.PlotlyConfig = {MathJaxConfig: 'local'};\n",
       "        if (window.MathJax && window.MathJax.Hub && window.MathJax.Hub.Config) {window.MathJax.Hub.Config({SVG: {font: \"STIX-Web\"}});}\n",
       "        if (typeof require !== 'undefined') {\n",
       "        require.undef(\"plotly\");\n",
       "        requirejs.config({\n",
       "            paths: {\n",
       "                'plotly': ['https://cdn.plot.ly/plotly-2.18.0.min']\n",
       "            }\n",
       "        });\n",
       "        require(['plotly'], function(Plotly) {\n",
       "            window._Plotly = Plotly;\n",
       "        });\n",
       "        }\n",
       "        </script>\n",
       "        "
      ]
     },
     "metadata": {},
     "output_type": "display_data"
    },
    {
     "data": {
      "text/html": [
       "<div>                            <div id=\"f51aed02-1f28-44c5-aa94-5c80d2ddb81a\" class=\"plotly-graph-div\" style=\"height:525px; width:100%;\"></div>            <script type=\"text/javascript\">                require([\"plotly\"], function(Plotly) {                    window.PLOTLYENV=window.PLOTLYENV || {};                                    if (document.getElementById(\"f51aed02-1f28-44c5-aa94-5c80d2ddb81a\")) {                    Plotly.newPlot(                        \"f51aed02-1f28-44c5-aa94-5c80d2ddb81a\",                        [{\"colorscale\":[[0.0,\"rgb(165,0,38)\"],[0.1,\"rgb(215,48,39)\"],[0.2,\"rgb(244,109,67)\"],[0.3,\"rgb(253,174,97)\"],[0.4,\"rgb(254,224,139)\"],[0.5,\"rgb(255,255,191)\"],[0.6,\"rgb(217,239,139)\"],[0.7,\"rgb(166,217,106)\"],[0.8,\"rgb(102,189,99)\"],[0.9,\"rgb(26,152,80)\"],[1.0,\"rgb(0,104,55)\"]],\"showlegend\":false,\"showscale\":false,\"texttemplate\":\"%{z}\",\"z\":[[0.0,0.0,0.0,0.0,0.0,0.0],[0.0,0.0,0.0,0.0,0.0,0.0],[0.0,0.0,0.0,0.0,0.0,0.0],[0.0,0.0,0.0,0.0,0.0,0.0]],\"zmax\":10,\"zmin\":-10,\"type\":\"heatmap\"}],                        {\"sliders\":[{\"active\":0,\"currentvalue\":{\"font\":{\"size\":20},\"prefix\":\"Iteration: \",\"visible\":true,\"xanchor\":\"right\"},\"len\":0.9,\"pad\":{\"b\":10,\"t\":50},\"steps\":[{\"args\":[[0],{\"frame\":{\"duration\":300,\"redraw\":true},\"mode\":\"immediate\",\"transition\":{\"duration\":300}}],\"label\":\"0\",\"method\":\"animate\"},{\"args\":[[1],{\"frame\":{\"duration\":300,\"redraw\":true},\"mode\":\"immediate\",\"transition\":{\"duration\":300}}],\"label\":\"1\",\"method\":\"animate\"},{\"args\":[[2],{\"frame\":{\"duration\":300,\"redraw\":true},\"mode\":\"immediate\",\"transition\":{\"duration\":300}}],\"label\":\"2\",\"method\":\"animate\"},{\"args\":[[3],{\"frame\":{\"duration\":300,\"redraw\":true},\"mode\":\"immediate\",\"transition\":{\"duration\":300}}],\"label\":\"3\",\"method\":\"animate\"},{\"args\":[[4],{\"frame\":{\"duration\":300,\"redraw\":true},\"mode\":\"immediate\",\"transition\":{\"duration\":300}}],\"label\":\"4\",\"method\":\"animate\"},{\"args\":[[5],{\"frame\":{\"duration\":300,\"redraw\":true},\"mode\":\"immediate\",\"transition\":{\"duration\":300}}],\"label\":\"5\",\"method\":\"animate\"},{\"args\":[[6],{\"frame\":{\"duration\":300,\"redraw\":true},\"mode\":\"immediate\",\"transition\":{\"duration\":300}}],\"label\":\"6\",\"method\":\"animate\"},{\"args\":[[7],{\"frame\":{\"duration\":300,\"redraw\":true},\"mode\":\"immediate\",\"transition\":{\"duration\":300}}],\"label\":\"7\",\"method\":\"animate\"},{\"args\":[[8],{\"frame\":{\"duration\":300,\"redraw\":true},\"mode\":\"immediate\",\"transition\":{\"duration\":300}}],\"label\":\"8\",\"method\":\"animate\"},{\"args\":[[9],{\"frame\":{\"duration\":300,\"redraw\":true},\"mode\":\"immediate\",\"transition\":{\"duration\":300}}],\"label\":\"9\",\"method\":\"animate\"},{\"args\":[[10],{\"frame\":{\"duration\":300,\"redraw\":true},\"mode\":\"immediate\",\"transition\":{\"duration\":300}}],\"label\":\"10\",\"method\":\"animate\"},{\"args\":[[11],{\"frame\":{\"duration\":300,\"redraw\":true},\"mode\":\"immediate\",\"transition\":{\"duration\":300}}],\"label\":\"11\",\"method\":\"animate\"},{\"args\":[[12],{\"frame\":{\"duration\":300,\"redraw\":true},\"mode\":\"immediate\",\"transition\":{\"duration\":300}}],\"label\":\"12\",\"method\":\"animate\"},{\"args\":[[13],{\"frame\":{\"duration\":300,\"redraw\":true},\"mode\":\"immediate\",\"transition\":{\"duration\":300}}],\"label\":\"13\",\"method\":\"animate\"},{\"args\":[[14],{\"frame\":{\"duration\":300,\"redraw\":true},\"mode\":\"immediate\",\"transition\":{\"duration\":300}}],\"label\":\"14\",\"method\":\"animate\"},{\"args\":[[15],{\"frame\":{\"duration\":300,\"redraw\":true},\"mode\":\"immediate\",\"transition\":{\"duration\":300}}],\"label\":\"15\",\"method\":\"animate\"},{\"args\":[[16],{\"frame\":{\"duration\":300,\"redraw\":true},\"mode\":\"immediate\",\"transition\":{\"duration\":300}}],\"label\":\"16\",\"method\":\"animate\"},{\"args\":[[17],{\"frame\":{\"duration\":300,\"redraw\":true},\"mode\":\"immediate\",\"transition\":{\"duration\":300}}],\"label\":\"17\",\"method\":\"animate\"},{\"args\":[[18],{\"frame\":{\"duration\":300,\"redraw\":true},\"mode\":\"immediate\",\"transition\":{\"duration\":300}}],\"label\":\"18\",\"method\":\"animate\"},{\"args\":[[19],{\"frame\":{\"duration\":300,\"redraw\":true},\"mode\":\"immediate\",\"transition\":{\"duration\":300}}],\"label\":\"19\",\"method\":\"animate\"},{\"args\":[[20],{\"frame\":{\"duration\":300,\"redraw\":true},\"mode\":\"immediate\",\"transition\":{\"duration\":300}}],\"label\":\"20\",\"method\":\"animate\"},{\"args\":[[21],{\"frame\":{\"duration\":300,\"redraw\":true},\"mode\":\"immediate\",\"transition\":{\"duration\":300}}],\"label\":\"21\",\"method\":\"animate\"},{\"args\":[[22],{\"frame\":{\"duration\":300,\"redraw\":true},\"mode\":\"immediate\",\"transition\":{\"duration\":300}}],\"label\":\"22\",\"method\":\"animate\"},{\"args\":[[23],{\"frame\":{\"duration\":300,\"redraw\":true},\"mode\":\"immediate\",\"transition\":{\"duration\":300}}],\"label\":\"23\",\"method\":\"animate\"},{\"args\":[[24],{\"frame\":{\"duration\":300,\"redraw\":true},\"mode\":\"immediate\",\"transition\":{\"duration\":300}}],\"label\":\"24\",\"method\":\"animate\"}],\"transition\":{\"duration\":300,\"easing\":\"cubic-in-out\"},\"x\":0.1,\"xanchor\":\"left\",\"y\":0,\"yanchor\":\"top\"}],\"updatemenus\":[{\"buttons\":[{\"args\":[null,{\"frame\":{\"duration\":500,\"redraw\":true},\"fromcurrent\":true,\"transition\":{\"duration\":300,\"easing\":\"quadratic-in-out\"}}],\"label\":\"Play\",\"method\":\"animate\"},{\"args\":[[null],{\"frame\":{\"duration\":0,\"redraw\":true},\"mode\":\"immediate\",\"transition\":{\"duration\":0}}],\"label\":\"Pause\",\"method\":\"animate\"}],\"direction\":\"left\",\"pad\":{\"r\":10,\"t\":87},\"showactive\":false,\"type\":\"buttons\",\"x\":0.1,\"xanchor\":\"right\",\"y\":0,\"yanchor\":\"top\"}],\"xaxis\":{\"visible\":false},\"yaxis\":{\"scaleanchor\":\"x\",\"visible\":false},\"template\":{\"data\":{\"histogram2dcontour\":[{\"type\":\"histogram2dcontour\",\"colorbar\":{\"outlinewidth\":0,\"ticks\":\"\"},\"colorscale\":[[0.0,\"#0d0887\"],[0.1111111111111111,\"#46039f\"],[0.2222222222222222,\"#7201a8\"],[0.3333333333333333,\"#9c179e\"],[0.4444444444444444,\"#bd3786\"],[0.5555555555555556,\"#d8576b\"],[0.6666666666666666,\"#ed7953\"],[0.7777777777777778,\"#fb9f3a\"],[0.8888888888888888,\"#fdca26\"],[1.0,\"#f0f921\"]]}],\"choropleth\":[{\"type\":\"choropleth\",\"colorbar\":{\"outlinewidth\":0,\"ticks\":\"\"}}],\"histogram2d\":[{\"type\":\"histogram2d\",\"colorbar\":{\"outlinewidth\":0,\"ticks\":\"\"},\"colorscale\":[[0.0,\"#0d0887\"],[0.1111111111111111,\"#46039f\"],[0.2222222222222222,\"#7201a8\"],[0.3333333333333333,\"#9c179e\"],[0.4444444444444444,\"#bd3786\"],[0.5555555555555556,\"#d8576b\"],[0.6666666666666666,\"#ed7953\"],[0.7777777777777778,\"#fb9f3a\"],[0.8888888888888888,\"#fdca26\"],[1.0,\"#f0f921\"]]}],\"heatmap\":[{\"type\":\"heatmap\",\"colorbar\":{\"outlinewidth\":0,\"ticks\":\"\"},\"colorscale\":[[0.0,\"#0d0887\"],[0.1111111111111111,\"#46039f\"],[0.2222222222222222,\"#7201a8\"],[0.3333333333333333,\"#9c179e\"],[0.4444444444444444,\"#bd3786\"],[0.5555555555555556,\"#d8576b\"],[0.6666666666666666,\"#ed7953\"],[0.7777777777777778,\"#fb9f3a\"],[0.8888888888888888,\"#fdca26\"],[1.0,\"#f0f921\"]]}],\"heatmapgl\":[{\"type\":\"heatmapgl\",\"colorbar\":{\"outlinewidth\":0,\"ticks\":\"\"},\"colorscale\":[[0.0,\"#0d0887\"],[0.1111111111111111,\"#46039f\"],[0.2222222222222222,\"#7201a8\"],[0.3333333333333333,\"#9c179e\"],[0.4444444444444444,\"#bd3786\"],[0.5555555555555556,\"#d8576b\"],[0.6666666666666666,\"#ed7953\"],[0.7777777777777778,\"#fb9f3a\"],[0.8888888888888888,\"#fdca26\"],[1.0,\"#f0f921\"]]}],\"contourcarpet\":[{\"type\":\"contourcarpet\",\"colorbar\":{\"outlinewidth\":0,\"ticks\":\"\"}}],\"contour\":[{\"type\":\"contour\",\"colorbar\":{\"outlinewidth\":0,\"ticks\":\"\"},\"colorscale\":[[0.0,\"#0d0887\"],[0.1111111111111111,\"#46039f\"],[0.2222222222222222,\"#7201a8\"],[0.3333333333333333,\"#9c179e\"],[0.4444444444444444,\"#bd3786\"],[0.5555555555555556,\"#d8576b\"],[0.6666666666666666,\"#ed7953\"],[0.7777777777777778,\"#fb9f3a\"],[0.8888888888888888,\"#fdca26\"],[1.0,\"#f0f921\"]]}],\"surface\":[{\"type\":\"surface\",\"colorbar\":{\"outlinewidth\":0,\"ticks\":\"\"},\"colorscale\":[[0.0,\"#0d0887\"],[0.1111111111111111,\"#46039f\"],[0.2222222222222222,\"#7201a8\"],[0.3333333333333333,\"#9c179e\"],[0.4444444444444444,\"#bd3786\"],[0.5555555555555556,\"#d8576b\"],[0.6666666666666666,\"#ed7953\"],[0.7777777777777778,\"#fb9f3a\"],[0.8888888888888888,\"#fdca26\"],[1.0,\"#f0f921\"]]}],\"mesh3d\":[{\"type\":\"mesh3d\",\"colorbar\":{\"outlinewidth\":0,\"ticks\":\"\"}}],\"scatter\":[{\"fillpattern\":{\"fillmode\":\"overlay\",\"size\":10,\"solidity\":0.2},\"type\":\"scatter\"}],\"parcoords\":[{\"type\":\"parcoords\",\"line\":{\"colorbar\":{\"outlinewidth\":0,\"ticks\":\"\"}}}],\"scatterpolargl\":[{\"type\":\"scatterpolargl\",\"marker\":{\"colorbar\":{\"outlinewidth\":0,\"ticks\":\"\"}}}],\"bar\":[{\"error_x\":{\"color\":\"#2a3f5f\"},\"error_y\":{\"color\":\"#2a3f5f\"},\"marker\":{\"line\":{\"color\":\"#E5ECF6\",\"width\":0.5},\"pattern\":{\"fillmode\":\"overlay\",\"size\":10,\"solidity\":0.2}},\"type\":\"bar\"}],\"scattergeo\":[{\"type\":\"scattergeo\",\"marker\":{\"colorbar\":{\"outlinewidth\":0,\"ticks\":\"\"}}}],\"scatterpolar\":[{\"type\":\"scatterpolar\",\"marker\":{\"colorbar\":{\"outlinewidth\":0,\"ticks\":\"\"}}}],\"histogram\":[{\"marker\":{\"pattern\":{\"fillmode\":\"overlay\",\"size\":10,\"solidity\":0.2}},\"type\":\"histogram\"}],\"scattergl\":[{\"type\":\"scattergl\",\"marker\":{\"colorbar\":{\"outlinewidth\":0,\"ticks\":\"\"}}}],\"scatter3d\":[{\"type\":\"scatter3d\",\"line\":{\"colorbar\":{\"outlinewidth\":0,\"ticks\":\"\"}},\"marker\":{\"colorbar\":{\"outlinewidth\":0,\"ticks\":\"\"}}}],\"scattermapbox\":[{\"type\":\"scattermapbox\",\"marker\":{\"colorbar\":{\"outlinewidth\":0,\"ticks\":\"\"}}}],\"scatterternary\":[{\"type\":\"scatterternary\",\"marker\":{\"colorbar\":{\"outlinewidth\":0,\"ticks\":\"\"}}}],\"scattercarpet\":[{\"type\":\"scattercarpet\",\"marker\":{\"colorbar\":{\"outlinewidth\":0,\"ticks\":\"\"}}}],\"carpet\":[{\"aaxis\":{\"endlinecolor\":\"#2a3f5f\",\"gridcolor\":\"white\",\"linecolor\":\"white\",\"minorgridcolor\":\"white\",\"startlinecolor\":\"#2a3f5f\"},\"baxis\":{\"endlinecolor\":\"#2a3f5f\",\"gridcolor\":\"white\",\"linecolor\":\"white\",\"minorgridcolor\":\"white\",\"startlinecolor\":\"#2a3f5f\"},\"type\":\"carpet\"}],\"table\":[{\"cells\":{\"fill\":{\"color\":\"#EBF0F8\"},\"line\":{\"color\":\"white\"}},\"header\":{\"fill\":{\"color\":\"#C8D4E3\"},\"line\":{\"color\":\"white\"}},\"type\":\"table\"}],\"barpolar\":[{\"marker\":{\"line\":{\"color\":\"#E5ECF6\",\"width\":0.5},\"pattern\":{\"fillmode\":\"overlay\",\"size\":10,\"solidity\":0.2}},\"type\":\"barpolar\"}],\"pie\":[{\"automargin\":true,\"type\":\"pie\"}]},\"layout\":{\"autotypenumbers\":\"strict\",\"colorway\":[\"#636efa\",\"#EF553B\",\"#00cc96\",\"#ab63fa\",\"#FFA15A\",\"#19d3f3\",\"#FF6692\",\"#B6E880\",\"#FF97FF\",\"#FECB52\"],\"font\":{\"color\":\"#2a3f5f\"},\"hovermode\":\"closest\",\"hoverlabel\":{\"align\":\"left\"},\"paper_bgcolor\":\"white\",\"plot_bgcolor\":\"#E5ECF6\",\"polar\":{\"bgcolor\":\"#E5ECF6\",\"angularaxis\":{\"gridcolor\":\"white\",\"linecolor\":\"white\",\"ticks\":\"\"},\"radialaxis\":{\"gridcolor\":\"white\",\"linecolor\":\"white\",\"ticks\":\"\"}},\"ternary\":{\"bgcolor\":\"#E5ECF6\",\"aaxis\":{\"gridcolor\":\"white\",\"linecolor\":\"white\",\"ticks\":\"\"},\"baxis\":{\"gridcolor\":\"white\",\"linecolor\":\"white\",\"ticks\":\"\"},\"caxis\":{\"gridcolor\":\"white\",\"linecolor\":\"white\",\"ticks\":\"\"}},\"coloraxis\":{\"colorbar\":{\"outlinewidth\":0,\"ticks\":\"\"}},\"colorscale\":{\"sequential\":[[0.0,\"#0d0887\"],[0.1111111111111111,\"#46039f\"],[0.2222222222222222,\"#7201a8\"],[0.3333333333333333,\"#9c179e\"],[0.4444444444444444,\"#bd3786\"],[0.5555555555555556,\"#d8576b\"],[0.6666666666666666,\"#ed7953\"],[0.7777777777777778,\"#fb9f3a\"],[0.8888888888888888,\"#fdca26\"],[1.0,\"#f0f921\"]],\"sequentialminus\":[[0.0,\"#0d0887\"],[0.1111111111111111,\"#46039f\"],[0.2222222222222222,\"#7201a8\"],[0.3333333333333333,\"#9c179e\"],[0.4444444444444444,\"#bd3786\"],[0.5555555555555556,\"#d8576b\"],[0.6666666666666666,\"#ed7953\"],[0.7777777777777778,\"#fb9f3a\"],[0.8888888888888888,\"#fdca26\"],[1.0,\"#f0f921\"]],\"diverging\":[[0,\"#8e0152\"],[0.1,\"#c51b7d\"],[0.2,\"#de77ae\"],[0.3,\"#f1b6da\"],[0.4,\"#fde0ef\"],[0.5,\"#f7f7f7\"],[0.6,\"#e6f5d0\"],[0.7,\"#b8e186\"],[0.8,\"#7fbc41\"],[0.9,\"#4d9221\"],[1,\"#276419\"]]},\"xaxis\":{\"gridcolor\":\"white\",\"linecolor\":\"white\",\"ticks\":\"\",\"title\":{\"standoff\":15},\"zerolinecolor\":\"white\",\"automargin\":true,\"zerolinewidth\":2},\"yaxis\":{\"gridcolor\":\"white\",\"linecolor\":\"white\",\"ticks\":\"\",\"title\":{\"standoff\":15},\"zerolinecolor\":\"white\",\"automargin\":true,\"zerolinewidth\":2},\"scene\":{\"xaxis\":{\"backgroundcolor\":\"#E5ECF6\",\"gridcolor\":\"white\",\"linecolor\":\"white\",\"showbackground\":true,\"ticks\":\"\",\"zerolinecolor\":\"white\",\"gridwidth\":2},\"yaxis\":{\"backgroundcolor\":\"#E5ECF6\",\"gridcolor\":\"white\",\"linecolor\":\"white\",\"showbackground\":true,\"ticks\":\"\",\"zerolinecolor\":\"white\",\"gridwidth\":2},\"zaxis\":{\"backgroundcolor\":\"#E5ECF6\",\"gridcolor\":\"white\",\"linecolor\":\"white\",\"showbackground\":true,\"ticks\":\"\",\"zerolinecolor\":\"white\",\"gridwidth\":2}},\"shapedefaults\":{\"line\":{\"color\":\"#2a3f5f\"}},\"annotationdefaults\":{\"arrowcolor\":\"#2a3f5f\",\"arrowhead\":0,\"arrowwidth\":1},\"geo\":{\"bgcolor\":\"white\",\"landcolor\":\"#E5ECF6\",\"subunitcolor\":\"white\",\"showland\":true,\"showlakes\":true,\"lakecolor\":\"white\"},\"title\":{\"x\":0.05},\"mapbox\":{\"style\":\"light\"}}},\"showlegend\":false,\"plot_bgcolor\":\"rgba(0,0,0,0)\"},                        {\"responsive\": true}                    ).then(function(){\n",
       "                            Plotly.addFrames('f51aed02-1f28-44c5-aa94-5c80d2ddb81a', [{\"data\":[{\"colorscale\":[[0.0,\"rgb(165,0,38)\"],[0.1,\"rgb(215,48,39)\"],[0.2,\"rgb(244,109,67)\"],[0.3,\"rgb(253,174,97)\"],[0.4,\"rgb(254,224,139)\"],[0.5,\"rgb(255,255,191)\"],[0.6,\"rgb(217,239,139)\"],[0.7,\"rgb(166,217,106)\"],[0.8,\"rgb(102,189,99)\"],[0.9,\"rgb(26,152,80)\"],[1.0,\"rgb(0,104,55)\"]],\"showlegend\":false,\"showscale\":false,\"texttemplate\":\"%{z}\",\"z\":[[0.0,0.0,0.0,0.0,0.0,0.0],[0.0,0.0,0.0,0.0,0.0,0.0],[0.0,0.0,0.0,0.0,0.0,0.0],[0.0,0.0,0.0,0.0,0.0,0.0]],\"zmax\":10,\"zmin\":-10,\"type\":\"heatmap\"}],\"name\":\"0\"},{\"data\":[{\"colorscale\":[[0.0,\"rgb(165,0,38)\"],[0.1,\"rgb(215,48,39)\"],[0.2,\"rgb(244,109,67)\"],[0.3,\"rgb(253,174,97)\"],[0.4,\"rgb(254,224,139)\"],[0.5,\"rgb(255,255,191)\"],[0.6,\"rgb(217,239,139)\"],[0.7,\"rgb(166,217,106)\"],[0.8,\"rgb(102,189,99)\"],[0.9,\"rgb(26,152,80)\"],[1.0,\"rgb(0,104,55)\"]],\"showlegend\":false,\"showscale\":false,\"texttemplate\":\"%{z}\",\"z\":[[0.0,0.0,0.0,0.0,0.0,0.0],[0.0,0.0,0.0,0.0,0.0,0.0],[0.0,0.0,0.0,0.0,0.0,0.0],[-5.0,0.0,0.0,0.0,0.0,0.0]],\"zmax\":10,\"zmin\":-10,\"type\":\"heatmap\"}],\"name\":\"1\"},{\"data\":[{\"colorscale\":[[0.0,\"rgb(165,0,38)\"],[0.1,\"rgb(215,48,39)\"],[0.2,\"rgb(244,109,67)\"],[0.3,\"rgb(253,174,97)\"],[0.4,\"rgb(254,224,139)\"],[0.5,\"rgb(255,255,191)\"],[0.6,\"rgb(217,239,139)\"],[0.7,\"rgb(166,217,106)\"],[0.8,\"rgb(102,189,99)\"],[0.9,\"rgb(26,152,80)\"],[1.0,\"rgb(0,104,55)\"]],\"showlegend\":false,\"showscale\":false,\"texttemplate\":\"%{z}\",\"z\":[[0.0,0.0,0.0,0.0,0.0,0.0],[0.0,0.0,0.0,0.0,0.0,0.0],[0.0,0.0,0.0,0.0,0.0,0.0],[-5.0,-1.0,0.0,0.0,0.0,0.0]],\"zmax\":10,\"zmin\":-10,\"type\":\"heatmap\"}],\"name\":\"2\"},{\"data\":[{\"colorscale\":[[0.0,\"rgb(165,0,38)\"],[0.1,\"rgb(215,48,39)\"],[0.2,\"rgb(244,109,67)\"],[0.3,\"rgb(253,174,97)\"],[0.4,\"rgb(254,224,139)\"],[0.5,\"rgb(255,255,191)\"],[0.6,\"rgb(217,239,139)\"],[0.7,\"rgb(166,217,106)\"],[0.8,\"rgb(102,189,99)\"],[0.9,\"rgb(26,152,80)\"],[1.0,\"rgb(0,104,55)\"]],\"showlegend\":false,\"showscale\":false,\"texttemplate\":\"%{z}\",\"z\":[[0.0,0.0,0.0,0.0,0.0,0.0],[0.0,0.0,0.0,0.0,0.0,0.0],[0.0,0.0,0.0,0.0,0.0,0.0],[-5.0,-1.0,-1.0,0.0,0.0,0.0]],\"zmax\":10,\"zmin\":-10,\"type\":\"heatmap\"}],\"name\":\"3\"},{\"data\":[{\"colorscale\":[[0.0,\"rgb(165,0,38)\"],[0.1,\"rgb(215,48,39)\"],[0.2,\"rgb(244,109,67)\"],[0.3,\"rgb(253,174,97)\"],[0.4,\"rgb(254,224,139)\"],[0.5,\"rgb(255,255,191)\"],[0.6,\"rgb(217,239,139)\"],[0.7,\"rgb(166,217,106)\"],[0.8,\"rgb(102,189,99)\"],[0.9,\"rgb(26,152,80)\"],[1.0,\"rgb(0,104,55)\"]],\"showlegend\":false,\"showscale\":false,\"texttemplate\":\"%{z}\",\"z\":[[0.0,0.0,0.0,0.0,0.0,0.0],[0.0,0.0,0.0,0.0,0.0,0.0],[0.0,0.0,0.0,0.0,0.0,0.0],[-5.0,-1.0,-1.0,-1.0,0.0,0.0]],\"zmax\":10,\"zmin\":-10,\"type\":\"heatmap\"}],\"name\":\"4\"},{\"data\":[{\"colorscale\":[[0.0,\"rgb(165,0,38)\"],[0.1,\"rgb(215,48,39)\"],[0.2,\"rgb(244,109,67)\"],[0.3,\"rgb(253,174,97)\"],[0.4,\"rgb(254,224,139)\"],[0.5,\"rgb(255,255,191)\"],[0.6,\"rgb(217,239,139)\"],[0.7,\"rgb(166,217,106)\"],[0.8,\"rgb(102,189,99)\"],[0.9,\"rgb(26,152,80)\"],[1.0,\"rgb(0,104,55)\"]],\"showlegend\":false,\"showscale\":false,\"texttemplate\":\"%{z}\",\"z\":[[0.0,0.0,0.0,0.0,0.0,0.0],[0.0,0.0,0.0,0.0,0.0,0.0],[0.0,0.0,0.0,0.0,0.0,0.0],[-5.0,-1.0,-1.0,-1.0,9.0,0.0]],\"zmax\":10,\"zmin\":-10,\"type\":\"heatmap\"}],\"name\":\"5\"},{\"data\":[{\"colorscale\":[[0.0,\"rgb(165,0,38)\"],[0.1,\"rgb(215,48,39)\"],[0.2,\"rgb(244,109,67)\"],[0.3,\"rgb(253,174,97)\"],[0.4,\"rgb(254,224,139)\"],[0.5,\"rgb(255,255,191)\"],[0.6,\"rgb(217,239,139)\"],[0.7,\"rgb(166,217,106)\"],[0.8,\"rgb(102,189,99)\"],[0.9,\"rgb(26,152,80)\"],[1.0,\"rgb(0,104,55)\"]],\"showlegend\":false,\"showscale\":false,\"texttemplate\":\"%{z}\",\"z\":[[0.0,0.0,0.0,0.0,0.0,0.0],[0.0,0.0,0.0,0.0,0.0,0.0],[0.0,0.0,0.0,0.0,0.0,0.0],[-5.0,-1.0,-1.0,-1.0,9.0,10.0]],\"zmax\":10,\"zmin\":-10,\"type\":\"heatmap\"}],\"name\":\"6\"},{\"data\":[{\"colorscale\":[[0.0,\"rgb(165,0,38)\"],[0.1,\"rgb(215,48,39)\"],[0.2,\"rgb(244,109,67)\"],[0.3,\"rgb(253,174,97)\"],[0.4,\"rgb(254,224,139)\"],[0.5,\"rgb(255,255,191)\"],[0.6,\"rgb(217,239,139)\"],[0.7,\"rgb(166,217,106)\"],[0.8,\"rgb(102,189,99)\"],[0.9,\"rgb(26,152,80)\"],[1.0,\"rgb(0,104,55)\"]],\"showlegend\":false,\"showscale\":false,\"texttemplate\":\"%{z}\",\"z\":[[0.0,0.0,0.0,0.0,0.0,0.0],[0.0,0.0,0.0,0.0,0.0,0.0],[2.0,0.0,0.0,0.0,0.0,0.0],[-5.0,-1.0,-1.0,-1.0,9.0,10.0]],\"zmax\":10,\"zmin\":-10,\"type\":\"heatmap\"}],\"name\":\"7\"},{\"data\":[{\"colorscale\":[[0.0,\"rgb(165,0,38)\"],[0.1,\"rgb(215,48,39)\"],[0.2,\"rgb(244,109,67)\"],[0.3,\"rgb(253,174,97)\"],[0.4,\"rgb(254,224,139)\"],[0.5,\"rgb(255,255,191)\"],[0.6,\"rgb(217,239,139)\"],[0.7,\"rgb(166,217,106)\"],[0.8,\"rgb(102,189,99)\"],[0.9,\"rgb(26,152,80)\"],[1.0,\"rgb(0,104,55)\"]],\"showlegend\":false,\"showscale\":false,\"texttemplate\":\"%{z}\",\"z\":[[0.0,0.0,0.0,0.0,0.0,0.0],[0.0,0.0,0.0,0.0,0.0,0.0],[2.0,-1.0,0.0,0.0,0.0,0.0],[-5.0,-1.0,-1.0,-1.0,9.0,10.0]],\"zmax\":10,\"zmin\":-10,\"type\":\"heatmap\"}],\"name\":\"8\"},{\"data\":[{\"colorscale\":[[0.0,\"rgb(165,0,38)\"],[0.1,\"rgb(215,48,39)\"],[0.2,\"rgb(244,109,67)\"],[0.3,\"rgb(253,174,97)\"],[0.4,\"rgb(254,224,139)\"],[0.5,\"rgb(255,255,191)\"],[0.6,\"rgb(217,239,139)\"],[0.7,\"rgb(166,217,106)\"],[0.8,\"rgb(102,189,99)\"],[0.9,\"rgb(26,152,80)\"],[1.0,\"rgb(0,104,55)\"]],\"showlegend\":false,\"showscale\":false,\"texttemplate\":\"%{z}\",\"z\":[[0.0,0.0,0.0,0.0,0.0,0.0],[0.0,0.0,0.0,0.0,0.0,0.0],[2.0,-1.0,-1.0,0.0,0.0,0.0],[-5.0,-1.0,-1.0,-1.0,9.0,10.0]],\"zmax\":10,\"zmin\":-10,\"type\":\"heatmap\"}],\"name\":\"9\"},{\"data\":[{\"colorscale\":[[0.0,\"rgb(165,0,38)\"],[0.1,\"rgb(215,48,39)\"],[0.2,\"rgb(244,109,67)\"],[0.3,\"rgb(253,174,97)\"],[0.4,\"rgb(254,224,139)\"],[0.5,\"rgb(255,255,191)\"],[0.6,\"rgb(217,239,139)\"],[0.7,\"rgb(166,217,106)\"],[0.8,\"rgb(102,189,99)\"],[0.9,\"rgb(26,152,80)\"],[1.0,\"rgb(0,104,55)\"]],\"showlegend\":false,\"showscale\":false,\"texttemplate\":\"%{z}\",\"z\":[[0.0,0.0,0.0,0.0,0.0,0.0],[0.0,0.0,0.0,0.0,0.0,0.0],[2.0,-1.0,-1.0,-1.0,0.0,0.0],[-5.0,-1.0,-1.0,-1.0,9.0,10.0]],\"zmax\":10,\"zmin\":-10,\"type\":\"heatmap\"}],\"name\":\"10\"},{\"data\":[{\"colorscale\":[[0.0,\"rgb(165,0,38)\"],[0.1,\"rgb(215,48,39)\"],[0.2,\"rgb(244,109,67)\"],[0.3,\"rgb(253,174,97)\"],[0.4,\"rgb(254,224,139)\"],[0.5,\"rgb(255,255,191)\"],[0.6,\"rgb(217,239,139)\"],[0.7,\"rgb(166,217,106)\"],[0.8,\"rgb(102,189,99)\"],[0.9,\"rgb(26,152,80)\"],[1.0,\"rgb(0,104,55)\"]],\"showlegend\":false,\"showscale\":false,\"texttemplate\":\"%{z}\",\"z\":[[0.0,0.0,0.0,0.0,0.0,0.0],[0.0,0.0,0.0,0.0,0.0,0.0],[2.0,-1.0,-1.0,-1.0,-1.0,0.0],[-5.0,-1.0,-1.0,-1.0,9.0,10.0]],\"zmax\":10,\"zmin\":-10,\"type\":\"heatmap\"}],\"name\":\"11\"},{\"data\":[{\"colorscale\":[[0.0,\"rgb(165,0,38)\"],[0.1,\"rgb(215,48,39)\"],[0.2,\"rgb(244,109,67)\"],[0.3,\"rgb(253,174,97)\"],[0.4,\"rgb(254,224,139)\"],[0.5,\"rgb(255,255,191)\"],[0.6,\"rgb(217,239,139)\"],[0.7,\"rgb(166,217,106)\"],[0.8,\"rgb(102,189,99)\"],[0.9,\"rgb(26,152,80)\"],[1.0,\"rgb(0,104,55)\"]],\"showlegend\":false,\"showscale\":false,\"texttemplate\":\"%{z}\",\"z\":[[0.0,0.0,0.0,0.0,0.0,0.0],[0.0,0.0,0.0,0.0,0.0,0.0],[2.0,-1.0,-1.0,-1.0,-1.0,9.0],[-5.0,-1.0,-1.0,-1.0,9.0,10.0]],\"zmax\":10,\"zmin\":-10,\"type\":\"heatmap\"}],\"name\":\"12\"},{\"data\":[{\"colorscale\":[[0.0,\"rgb(165,0,38)\"],[0.1,\"rgb(215,48,39)\"],[0.2,\"rgb(244,109,67)\"],[0.3,\"rgb(253,174,97)\"],[0.4,\"rgb(254,224,139)\"],[0.5,\"rgb(255,255,191)\"],[0.6,\"rgb(217,239,139)\"],[0.7,\"rgb(166,217,106)\"],[0.8,\"rgb(102,189,99)\"],[0.9,\"rgb(26,152,80)\"],[1.0,\"rgb(0,104,55)\"]],\"showlegend\":false,\"showscale\":false,\"texttemplate\":\"%{z}\",\"z\":[[0.0,0.0,0.0,0.0,0.0,0.0],[3.0,0.0,0.0,0.0,0.0,0.0],[2.0,-1.0,-1.0,-1.0,-1.0,9.0],[-5.0,-1.0,-1.0,-1.0,9.0,10.0]],\"zmax\":10,\"zmin\":-10,\"type\":\"heatmap\"}],\"name\":\"13\"},{\"data\":[{\"colorscale\":[[0.0,\"rgb(165,0,38)\"],[0.1,\"rgb(215,48,39)\"],[0.2,\"rgb(244,109,67)\"],[0.3,\"rgb(253,174,97)\"],[0.4,\"rgb(254,224,139)\"],[0.5,\"rgb(255,255,191)\"],[0.6,\"rgb(217,239,139)\"],[0.7,\"rgb(166,217,106)\"],[0.8,\"rgb(102,189,99)\"],[0.9,\"rgb(26,152,80)\"],[1.0,\"rgb(0,104,55)\"]],\"showlegend\":false,\"showscale\":false,\"texttemplate\":\"%{z}\",\"z\":[[0.0,0.0,0.0,0.0,0.0,0.0],[3.0,2.0,0.0,0.0,0.0,0.0],[2.0,-1.0,-1.0,-1.0,-1.0,9.0],[-5.0,-1.0,-1.0,-1.0,9.0,10.0]],\"zmax\":10,\"zmin\":-10,\"type\":\"heatmap\"}],\"name\":\"14\"},{\"data\":[{\"colorscale\":[[0.0,\"rgb(165,0,38)\"],[0.1,\"rgb(215,48,39)\"],[0.2,\"rgb(244,109,67)\"],[0.3,\"rgb(253,174,97)\"],[0.4,\"rgb(254,224,139)\"],[0.5,\"rgb(255,255,191)\"],[0.6,\"rgb(217,239,139)\"],[0.7,\"rgb(166,217,106)\"],[0.8,\"rgb(102,189,99)\"],[0.9,\"rgb(26,152,80)\"],[1.0,\"rgb(0,104,55)\"]],\"showlegend\":false,\"showscale\":false,\"texttemplate\":\"%{z}\",\"z\":[[0.0,0.0,0.0,0.0,0.0,0.0],[3.0,2.0,-1.0,0.0,0.0,0.0],[2.0,-1.0,-1.0,-1.0,-1.0,9.0],[-5.0,-1.0,-1.0,-1.0,9.0,10.0]],\"zmax\":10,\"zmin\":-10,\"type\":\"heatmap\"}],\"name\":\"15\"},{\"data\":[{\"colorscale\":[[0.0,\"rgb(165,0,38)\"],[0.1,\"rgb(215,48,39)\"],[0.2,\"rgb(244,109,67)\"],[0.3,\"rgb(253,174,97)\"],[0.4,\"rgb(254,224,139)\"],[0.5,\"rgb(255,255,191)\"],[0.6,\"rgb(217,239,139)\"],[0.7,\"rgb(166,217,106)\"],[0.8,\"rgb(102,189,99)\"],[0.9,\"rgb(26,152,80)\"],[1.0,\"rgb(0,104,55)\"]],\"showlegend\":false,\"showscale\":false,\"texttemplate\":\"%{z}\",\"z\":[[0.0,0.0,0.0,0.0,0.0,0.0],[3.0,2.0,-1.0,-5.0,0.0,0.0],[2.0,-1.0,-1.0,-1.0,-1.0,9.0],[-5.0,-1.0,-1.0,-1.0,9.0,10.0]],\"zmax\":10,\"zmin\":-10,\"type\":\"heatmap\"}],\"name\":\"16\"},{\"data\":[{\"colorscale\":[[0.0,\"rgb(165,0,38)\"],[0.1,\"rgb(215,48,39)\"],[0.2,\"rgb(244,109,67)\"],[0.3,\"rgb(253,174,97)\"],[0.4,\"rgb(254,224,139)\"],[0.5,\"rgb(255,255,191)\"],[0.6,\"rgb(217,239,139)\"],[0.7,\"rgb(166,217,106)\"],[0.8,\"rgb(102,189,99)\"],[0.9,\"rgb(26,152,80)\"],[1.0,\"rgb(0,104,55)\"]],\"showlegend\":false,\"showscale\":false,\"texttemplate\":\"%{z}\",\"z\":[[0.0,0.0,0.0,0.0,0.0,0.0],[3.0,2.0,-1.0,-5.0,-1.0,0.0],[2.0,-1.0,-1.0,-1.0,-1.0,9.0],[-5.0,-1.0,-1.0,-1.0,9.0,10.0]],\"zmax\":10,\"zmin\":-10,\"type\":\"heatmap\"}],\"name\":\"17\"},{\"data\":[{\"colorscale\":[[0.0,\"rgb(165,0,38)\"],[0.1,\"rgb(215,48,39)\"],[0.2,\"rgb(244,109,67)\"],[0.3,\"rgb(253,174,97)\"],[0.4,\"rgb(254,224,139)\"],[0.5,\"rgb(255,255,191)\"],[0.6,\"rgb(217,239,139)\"],[0.7,\"rgb(166,217,106)\"],[0.8,\"rgb(102,189,99)\"],[0.9,\"rgb(26,152,80)\"],[1.0,\"rgb(0,104,55)\"]],\"showlegend\":false,\"showscale\":false,\"texttemplate\":\"%{z}\",\"z\":[[0.0,0.0,0.0,0.0,0.0,0.0],[3.0,2.0,-1.0,-5.0,-1.0,-1.0],[2.0,-1.0,-1.0,-1.0,-1.0,9.0],[-5.0,-1.0,-1.0,-1.0,9.0,10.0]],\"zmax\":10,\"zmin\":-10,\"type\":\"heatmap\"}],\"name\":\"18\"},{\"data\":[{\"colorscale\":[[0.0,\"rgb(165,0,38)\"],[0.1,\"rgb(215,48,39)\"],[0.2,\"rgb(244,109,67)\"],[0.3,\"rgb(253,174,97)\"],[0.4,\"rgb(254,224,139)\"],[0.5,\"rgb(255,255,191)\"],[0.6,\"rgb(217,239,139)\"],[0.7,\"rgb(166,217,106)\"],[0.8,\"rgb(102,189,99)\"],[0.9,\"rgb(26,152,80)\"],[1.0,\"rgb(0,104,55)\"]],\"showlegend\":false,\"showscale\":false,\"texttemplate\":\"%{z}\",\"z\":[[-10.0,0.0,0.0,0.0,0.0,0.0],[3.0,2.0,-1.0,-5.0,-1.0,-1.0],[2.0,-1.0,-1.0,-1.0,-1.0,9.0],[-5.0,-1.0,-1.0,-1.0,9.0,10.0]],\"zmax\":10,\"zmin\":-10,\"type\":\"heatmap\"}],\"name\":\"19\"},{\"data\":[{\"colorscale\":[[0.0,\"rgb(165,0,38)\"],[0.1,\"rgb(215,48,39)\"],[0.2,\"rgb(244,109,67)\"],[0.3,\"rgb(253,174,97)\"],[0.4,\"rgb(254,224,139)\"],[0.5,\"rgb(255,255,191)\"],[0.6,\"rgb(217,239,139)\"],[0.7,\"rgb(166,217,106)\"],[0.8,\"rgb(102,189,99)\"],[0.9,\"rgb(26,152,80)\"],[1.0,\"rgb(0,104,55)\"]],\"showlegend\":false,\"showscale\":false,\"texttemplate\":\"%{z}\",\"z\":[[-10.0,-1.0,0.0,0.0,0.0,0.0],[3.0,2.0,-1.0,-5.0,-1.0,-1.0],[2.0,-1.0,-1.0,-1.0,-1.0,9.0],[-5.0,-1.0,-1.0,-1.0,9.0,10.0]],\"zmax\":10,\"zmin\":-10,\"type\":\"heatmap\"}],\"name\":\"20\"},{\"data\":[{\"colorscale\":[[0.0,\"rgb(165,0,38)\"],[0.1,\"rgb(215,48,39)\"],[0.2,\"rgb(244,109,67)\"],[0.3,\"rgb(253,174,97)\"],[0.4,\"rgb(254,224,139)\"],[0.5,\"rgb(255,255,191)\"],[0.6,\"rgb(217,239,139)\"],[0.7,\"rgb(166,217,106)\"],[0.8,\"rgb(102,189,99)\"],[0.9,\"rgb(26,152,80)\"],[1.0,\"rgb(0,104,55)\"]],\"showlegend\":false,\"showscale\":false,\"texttemplate\":\"%{z}\",\"z\":[[-10.0,-1.0,-1.0,0.0,0.0,0.0],[3.0,2.0,-1.0,-5.0,-1.0,-1.0],[2.0,-1.0,-1.0,-1.0,-1.0,9.0],[-5.0,-1.0,-1.0,-1.0,9.0,10.0]],\"zmax\":10,\"zmin\":-10,\"type\":\"heatmap\"}],\"name\":\"21\"},{\"data\":[{\"colorscale\":[[0.0,\"rgb(165,0,38)\"],[0.1,\"rgb(215,48,39)\"],[0.2,\"rgb(244,109,67)\"],[0.3,\"rgb(253,174,97)\"],[0.4,\"rgb(254,224,139)\"],[0.5,\"rgb(255,255,191)\"],[0.6,\"rgb(217,239,139)\"],[0.7,\"rgb(166,217,106)\"],[0.8,\"rgb(102,189,99)\"],[0.9,\"rgb(26,152,80)\"],[1.0,\"rgb(0,104,55)\"]],\"showlegend\":false,\"showscale\":false,\"texttemplate\":\"%{z}\",\"z\":[[-10.0,-1.0,-1.0,-1.0,0.0,0.0],[3.0,2.0,-1.0,-5.0,-1.0,-1.0],[2.0,-1.0,-1.0,-1.0,-1.0,9.0],[-5.0,-1.0,-1.0,-1.0,9.0,10.0]],\"zmax\":10,\"zmin\":-10,\"type\":\"heatmap\"}],\"name\":\"22\"},{\"data\":[{\"colorscale\":[[0.0,\"rgb(165,0,38)\"],[0.1,\"rgb(215,48,39)\"],[0.2,\"rgb(244,109,67)\"],[0.3,\"rgb(253,174,97)\"],[0.4,\"rgb(254,224,139)\"],[0.5,\"rgb(255,255,191)\"],[0.6,\"rgb(217,239,139)\"],[0.7,\"rgb(166,217,106)\"],[0.8,\"rgb(102,189,99)\"],[0.9,\"rgb(26,152,80)\"],[1.0,\"rgb(0,104,55)\"]],\"showlegend\":false,\"showscale\":false,\"texttemplate\":\"%{z}\",\"z\":[[-10.0,-1.0,-1.0,-1.0,-1.0,0.0],[3.0,2.0,-1.0,-5.0,-1.0,-1.0],[2.0,-1.0,-1.0,-1.0,-1.0,9.0],[-5.0,-1.0,-1.0,-1.0,9.0,10.0]],\"zmax\":10,\"zmin\":-10,\"type\":\"heatmap\"}],\"name\":\"23\"},{\"data\":[{\"colorscale\":[[0.0,\"rgb(165,0,38)\"],[0.1,\"rgb(215,48,39)\"],[0.2,\"rgb(244,109,67)\"],[0.3,\"rgb(253,174,97)\"],[0.4,\"rgb(254,224,139)\"],[0.5,\"rgb(255,255,191)\"],[0.6,\"rgb(217,239,139)\"],[0.7,\"rgb(166,217,106)\"],[0.8,\"rgb(102,189,99)\"],[0.9,\"rgb(26,152,80)\"],[1.0,\"rgb(0,104,55)\"]],\"showlegend\":false,\"showscale\":false,\"texttemplate\":\"%{z}\",\"z\":[[-10.0,-1.0,-1.0,-1.0,-1.0,-1.0],[3.0,2.0,-1.0,-5.0,-1.0,-1.0],[2.0,-1.0,-1.0,-1.0,-1.0,9.0],[-5.0,-1.0,-1.0,-1.0,9.0,10.0]],\"zmax\":10,\"zmin\":-10,\"type\":\"heatmap\"}],\"name\":\"24\"}]);\n",
       "                        }).then(function(){\n",
       "                            \n",
       "var gd = document.getElementById('f51aed02-1f28-44c5-aa94-5c80d2ddb81a');\n",
       "var x = new MutationObserver(function (mutations, observer) {{\n",
       "        var display = window.getComputedStyle(gd).display;\n",
       "        if (!display || display === 'none') {{\n",
       "            console.log([gd, 'removed!']);\n",
       "            Plotly.purge(gd);\n",
       "            observer.disconnect();\n",
       "        }}\n",
       "}});\n",
       "\n",
       "// Listen for the removal of the full notebook cells\n",
       "var notebookContainer = gd.closest('#notebook-container');\n",
       "if (notebookContainer) {{\n",
       "    x.observe(notebookContainer, {childList: true});\n",
       "}}\n",
       "\n",
       "// Listen for the clearing of the current output cell\n",
       "var outputEl = gd.closest('.output');\n",
       "if (outputEl) {{\n",
       "    x.observe(outputEl, {childList: true});\n",
       "}}\n",
       "\n",
       "                        })                };                });            </script>        </div>"
      ]
     },
     "metadata": {},
     "output_type": "display_data"
    }
   ],
   "source": [
    "env.reset()\n",
    "video_1 = Video_callback(env.shape, value_range = (rewards.min(), rewards.max()))\n",
    "\n",
    "# Assume we know nothing about the rewards\n",
    "V0 = np.zeros(env.nS)\n",
    "V_new, delta = update_values(env, V0, discount_factor=0.5, verbose = 0, callback = video_1)\n",
    "video_1.plot()"
   ]
  },
  {
   "attachments": {},
   "cell_type": "markdown",
   "metadata": {},
   "source": [
    "# 2nd Interation of vlaue updates"
   ]
  },
  {
   "cell_type": "code",
   "execution_count": 7,
   "metadata": {},
   "outputs": [
    {
     "data": {
      "text/html": [
       "<div>                            <div id=\"8012469a-7d06-478e-8961-2683cd0451be\" class=\"plotly-graph-div\" style=\"height:525px; width:100%;\"></div>            <script type=\"text/javascript\">                require([\"plotly\"], function(Plotly) {                    window.PLOTLYENV=window.PLOTLYENV || {};                                    if (document.getElementById(\"8012469a-7d06-478e-8961-2683cd0451be\")) {                    Plotly.newPlot(                        \"8012469a-7d06-478e-8961-2683cd0451be\",                        [{\"colorscale\":[[0.0,\"rgb(165,0,38)\"],[0.1,\"rgb(215,48,39)\"],[0.2,\"rgb(244,109,67)\"],[0.3,\"rgb(253,174,97)\"],[0.4,\"rgb(254,224,139)\"],[0.5,\"rgb(255,255,191)\"],[0.6,\"rgb(217,239,139)\"],[0.7,\"rgb(166,217,106)\"],[0.8,\"rgb(102,189,99)\"],[0.9,\"rgb(26,152,80)\"],[1.0,\"rgb(0,104,55)\"]],\"showlegend\":false,\"showscale\":false,\"texttemplate\":\"%{z}\",\"z\":[[-10.0,-1.0,-1.0,-1.0,-1.0,-1.0],[3.0,2.0,-1.0,-5.0,-1.0,-1.0],[2.0,-1.0,-1.0,-1.0,-1.0,9.0],[-5.0,-1.0,-1.0,-1.0,9.0,10.0]],\"zmax\":10,\"zmin\":-10,\"type\":\"heatmap\"}],                        {\"sliders\":[{\"active\":0,\"currentvalue\":{\"font\":{\"size\":20},\"prefix\":\"Iteration: \",\"visible\":true,\"xanchor\":\"right\"},\"len\":0.9,\"pad\":{\"b\":10,\"t\":50},\"steps\":[{\"args\":[[0],{\"frame\":{\"duration\":300,\"redraw\":true},\"mode\":\"immediate\",\"transition\":{\"duration\":300}}],\"label\":\"0\",\"method\":\"animate\"},{\"args\":[[1],{\"frame\":{\"duration\":300,\"redraw\":true},\"mode\":\"immediate\",\"transition\":{\"duration\":300}}],\"label\":\"1\",\"method\":\"animate\"},{\"args\":[[2],{\"frame\":{\"duration\":300,\"redraw\":true},\"mode\":\"immediate\",\"transition\":{\"duration\":300}}],\"label\":\"2\",\"method\":\"animate\"},{\"args\":[[3],{\"frame\":{\"duration\":300,\"redraw\":true},\"mode\":\"immediate\",\"transition\":{\"duration\":300}}],\"label\":\"3\",\"method\":\"animate\"},{\"args\":[[4],{\"frame\":{\"duration\":300,\"redraw\":true},\"mode\":\"immediate\",\"transition\":{\"duration\":300}}],\"label\":\"4\",\"method\":\"animate\"},{\"args\":[[5],{\"frame\":{\"duration\":300,\"redraw\":true},\"mode\":\"immediate\",\"transition\":{\"duration\":300}}],\"label\":\"5\",\"method\":\"animate\"},{\"args\":[[6],{\"frame\":{\"duration\":300,\"redraw\":true},\"mode\":\"immediate\",\"transition\":{\"duration\":300}}],\"label\":\"6\",\"method\":\"animate\"},{\"args\":[[7],{\"frame\":{\"duration\":300,\"redraw\":true},\"mode\":\"immediate\",\"transition\":{\"duration\":300}}],\"label\":\"7\",\"method\":\"animate\"},{\"args\":[[8],{\"frame\":{\"duration\":300,\"redraw\":true},\"mode\":\"immediate\",\"transition\":{\"duration\":300}}],\"label\":\"8\",\"method\":\"animate\"},{\"args\":[[9],{\"frame\":{\"duration\":300,\"redraw\":true},\"mode\":\"immediate\",\"transition\":{\"duration\":300}}],\"label\":\"9\",\"method\":\"animate\"},{\"args\":[[10],{\"frame\":{\"duration\":300,\"redraw\":true},\"mode\":\"immediate\",\"transition\":{\"duration\":300}}],\"label\":\"10\",\"method\":\"animate\"},{\"args\":[[11],{\"frame\":{\"duration\":300,\"redraw\":true},\"mode\":\"immediate\",\"transition\":{\"duration\":300}}],\"label\":\"11\",\"method\":\"animate\"},{\"args\":[[12],{\"frame\":{\"duration\":300,\"redraw\":true},\"mode\":\"immediate\",\"transition\":{\"duration\":300}}],\"label\":\"12\",\"method\":\"animate\"},{\"args\":[[13],{\"frame\":{\"duration\":300,\"redraw\":true},\"mode\":\"immediate\",\"transition\":{\"duration\":300}}],\"label\":\"13\",\"method\":\"animate\"},{\"args\":[[14],{\"frame\":{\"duration\":300,\"redraw\":true},\"mode\":\"immediate\",\"transition\":{\"duration\":300}}],\"label\":\"14\",\"method\":\"animate\"},{\"args\":[[15],{\"frame\":{\"duration\":300,\"redraw\":true},\"mode\":\"immediate\",\"transition\":{\"duration\":300}}],\"label\":\"15\",\"method\":\"animate\"},{\"args\":[[16],{\"frame\":{\"duration\":300,\"redraw\":true},\"mode\":\"immediate\",\"transition\":{\"duration\":300}}],\"label\":\"16\",\"method\":\"animate\"},{\"args\":[[17],{\"frame\":{\"duration\":300,\"redraw\":true},\"mode\":\"immediate\",\"transition\":{\"duration\":300}}],\"label\":\"17\",\"method\":\"animate\"},{\"args\":[[18],{\"frame\":{\"duration\":300,\"redraw\":true},\"mode\":\"immediate\",\"transition\":{\"duration\":300}}],\"label\":\"18\",\"method\":\"animate\"},{\"args\":[[19],{\"frame\":{\"duration\":300,\"redraw\":true},\"mode\":\"immediate\",\"transition\":{\"duration\":300}}],\"label\":\"19\",\"method\":\"animate\"},{\"args\":[[20],{\"frame\":{\"duration\":300,\"redraw\":true},\"mode\":\"immediate\",\"transition\":{\"duration\":300}}],\"label\":\"20\",\"method\":\"animate\"},{\"args\":[[21],{\"frame\":{\"duration\":300,\"redraw\":true},\"mode\":\"immediate\",\"transition\":{\"duration\":300}}],\"label\":\"21\",\"method\":\"animate\"},{\"args\":[[22],{\"frame\":{\"duration\":300,\"redraw\":true},\"mode\":\"immediate\",\"transition\":{\"duration\":300}}],\"label\":\"22\",\"method\":\"animate\"},{\"args\":[[23],{\"frame\":{\"duration\":300,\"redraw\":true},\"mode\":\"immediate\",\"transition\":{\"duration\":300}}],\"label\":\"23\",\"method\":\"animate\"},{\"args\":[[24],{\"frame\":{\"duration\":300,\"redraw\":true},\"mode\":\"immediate\",\"transition\":{\"duration\":300}}],\"label\":\"24\",\"method\":\"animate\"}],\"transition\":{\"duration\":300,\"easing\":\"cubic-in-out\"},\"x\":0.1,\"xanchor\":\"left\",\"y\":0,\"yanchor\":\"top\"}],\"updatemenus\":[{\"buttons\":[{\"args\":[null,{\"frame\":{\"duration\":500,\"redraw\":true},\"fromcurrent\":true,\"transition\":{\"duration\":300,\"easing\":\"quadratic-in-out\"}}],\"label\":\"Play\",\"method\":\"animate\"},{\"args\":[[null],{\"frame\":{\"duration\":0,\"redraw\":true},\"mode\":\"immediate\",\"transition\":{\"duration\":0}}],\"label\":\"Pause\",\"method\":\"animate\"}],\"direction\":\"left\",\"pad\":{\"r\":10,\"t\":87},\"showactive\":false,\"type\":\"buttons\",\"x\":0.1,\"xanchor\":\"right\",\"y\":0,\"yanchor\":\"top\"}],\"xaxis\":{\"visible\":false},\"yaxis\":{\"scaleanchor\":\"x\",\"visible\":false},\"template\":{\"data\":{\"histogram2dcontour\":[{\"type\":\"histogram2dcontour\",\"colorbar\":{\"outlinewidth\":0,\"ticks\":\"\"},\"colorscale\":[[0.0,\"#0d0887\"],[0.1111111111111111,\"#46039f\"],[0.2222222222222222,\"#7201a8\"],[0.3333333333333333,\"#9c179e\"],[0.4444444444444444,\"#bd3786\"],[0.5555555555555556,\"#d8576b\"],[0.6666666666666666,\"#ed7953\"],[0.7777777777777778,\"#fb9f3a\"],[0.8888888888888888,\"#fdca26\"],[1.0,\"#f0f921\"]]}],\"choropleth\":[{\"type\":\"choropleth\",\"colorbar\":{\"outlinewidth\":0,\"ticks\":\"\"}}],\"histogram2d\":[{\"type\":\"histogram2d\",\"colorbar\":{\"outlinewidth\":0,\"ticks\":\"\"},\"colorscale\":[[0.0,\"#0d0887\"],[0.1111111111111111,\"#46039f\"],[0.2222222222222222,\"#7201a8\"],[0.3333333333333333,\"#9c179e\"],[0.4444444444444444,\"#bd3786\"],[0.5555555555555556,\"#d8576b\"],[0.6666666666666666,\"#ed7953\"],[0.7777777777777778,\"#fb9f3a\"],[0.8888888888888888,\"#fdca26\"],[1.0,\"#f0f921\"]]}],\"heatmap\":[{\"type\":\"heatmap\",\"colorbar\":{\"outlinewidth\":0,\"ticks\":\"\"},\"colorscale\":[[0.0,\"#0d0887\"],[0.1111111111111111,\"#46039f\"],[0.2222222222222222,\"#7201a8\"],[0.3333333333333333,\"#9c179e\"],[0.4444444444444444,\"#bd3786\"],[0.5555555555555556,\"#d8576b\"],[0.6666666666666666,\"#ed7953\"],[0.7777777777777778,\"#fb9f3a\"],[0.8888888888888888,\"#fdca26\"],[1.0,\"#f0f921\"]]}],\"heatmapgl\":[{\"type\":\"heatmapgl\",\"colorbar\":{\"outlinewidth\":0,\"ticks\":\"\"},\"colorscale\":[[0.0,\"#0d0887\"],[0.1111111111111111,\"#46039f\"],[0.2222222222222222,\"#7201a8\"],[0.3333333333333333,\"#9c179e\"],[0.4444444444444444,\"#bd3786\"],[0.5555555555555556,\"#d8576b\"],[0.6666666666666666,\"#ed7953\"],[0.7777777777777778,\"#fb9f3a\"],[0.8888888888888888,\"#fdca26\"],[1.0,\"#f0f921\"]]}],\"contourcarpet\":[{\"type\":\"contourcarpet\",\"colorbar\":{\"outlinewidth\":0,\"ticks\":\"\"}}],\"contour\":[{\"type\":\"contour\",\"colorbar\":{\"outlinewidth\":0,\"ticks\":\"\"},\"colorscale\":[[0.0,\"#0d0887\"],[0.1111111111111111,\"#46039f\"],[0.2222222222222222,\"#7201a8\"],[0.3333333333333333,\"#9c179e\"],[0.4444444444444444,\"#bd3786\"],[0.5555555555555556,\"#d8576b\"],[0.6666666666666666,\"#ed7953\"],[0.7777777777777778,\"#fb9f3a\"],[0.8888888888888888,\"#fdca26\"],[1.0,\"#f0f921\"]]}],\"surface\":[{\"type\":\"surface\",\"colorbar\":{\"outlinewidth\":0,\"ticks\":\"\"},\"colorscale\":[[0.0,\"#0d0887\"],[0.1111111111111111,\"#46039f\"],[0.2222222222222222,\"#7201a8\"],[0.3333333333333333,\"#9c179e\"],[0.4444444444444444,\"#bd3786\"],[0.5555555555555556,\"#d8576b\"],[0.6666666666666666,\"#ed7953\"],[0.7777777777777778,\"#fb9f3a\"],[0.8888888888888888,\"#fdca26\"],[1.0,\"#f0f921\"]]}],\"mesh3d\":[{\"type\":\"mesh3d\",\"colorbar\":{\"outlinewidth\":0,\"ticks\":\"\"}}],\"scatter\":[{\"fillpattern\":{\"fillmode\":\"overlay\",\"size\":10,\"solidity\":0.2},\"type\":\"scatter\"}],\"parcoords\":[{\"type\":\"parcoords\",\"line\":{\"colorbar\":{\"outlinewidth\":0,\"ticks\":\"\"}}}],\"scatterpolargl\":[{\"type\":\"scatterpolargl\",\"marker\":{\"colorbar\":{\"outlinewidth\":0,\"ticks\":\"\"}}}],\"bar\":[{\"error_x\":{\"color\":\"#2a3f5f\"},\"error_y\":{\"color\":\"#2a3f5f\"},\"marker\":{\"line\":{\"color\":\"#E5ECF6\",\"width\":0.5},\"pattern\":{\"fillmode\":\"overlay\",\"size\":10,\"solidity\":0.2}},\"type\":\"bar\"}],\"scattergeo\":[{\"type\":\"scattergeo\",\"marker\":{\"colorbar\":{\"outlinewidth\":0,\"ticks\":\"\"}}}],\"scatterpolar\":[{\"type\":\"scatterpolar\",\"marker\":{\"colorbar\":{\"outlinewidth\":0,\"ticks\":\"\"}}}],\"histogram\":[{\"marker\":{\"pattern\":{\"fillmode\":\"overlay\",\"size\":10,\"solidity\":0.2}},\"type\":\"histogram\"}],\"scattergl\":[{\"type\":\"scattergl\",\"marker\":{\"colorbar\":{\"outlinewidth\":0,\"ticks\":\"\"}}}],\"scatter3d\":[{\"type\":\"scatter3d\",\"line\":{\"colorbar\":{\"outlinewidth\":0,\"ticks\":\"\"}},\"marker\":{\"colorbar\":{\"outlinewidth\":0,\"ticks\":\"\"}}}],\"scattermapbox\":[{\"type\":\"scattermapbox\",\"marker\":{\"colorbar\":{\"outlinewidth\":0,\"ticks\":\"\"}}}],\"scatterternary\":[{\"type\":\"scatterternary\",\"marker\":{\"colorbar\":{\"outlinewidth\":0,\"ticks\":\"\"}}}],\"scattercarpet\":[{\"type\":\"scattercarpet\",\"marker\":{\"colorbar\":{\"outlinewidth\":0,\"ticks\":\"\"}}}],\"carpet\":[{\"aaxis\":{\"endlinecolor\":\"#2a3f5f\",\"gridcolor\":\"white\",\"linecolor\":\"white\",\"minorgridcolor\":\"white\",\"startlinecolor\":\"#2a3f5f\"},\"baxis\":{\"endlinecolor\":\"#2a3f5f\",\"gridcolor\":\"white\",\"linecolor\":\"white\",\"minorgridcolor\":\"white\",\"startlinecolor\":\"#2a3f5f\"},\"type\":\"carpet\"}],\"table\":[{\"cells\":{\"fill\":{\"color\":\"#EBF0F8\"},\"line\":{\"color\":\"white\"}},\"header\":{\"fill\":{\"color\":\"#C8D4E3\"},\"line\":{\"color\":\"white\"}},\"type\":\"table\"}],\"barpolar\":[{\"marker\":{\"line\":{\"color\":\"#E5ECF6\",\"width\":0.5},\"pattern\":{\"fillmode\":\"overlay\",\"size\":10,\"solidity\":0.2}},\"type\":\"barpolar\"}],\"pie\":[{\"automargin\":true,\"type\":\"pie\"}]},\"layout\":{\"autotypenumbers\":\"strict\",\"colorway\":[\"#636efa\",\"#EF553B\",\"#00cc96\",\"#ab63fa\",\"#FFA15A\",\"#19d3f3\",\"#FF6692\",\"#B6E880\",\"#FF97FF\",\"#FECB52\"],\"font\":{\"color\":\"#2a3f5f\"},\"hovermode\":\"closest\",\"hoverlabel\":{\"align\":\"left\"},\"paper_bgcolor\":\"white\",\"plot_bgcolor\":\"#E5ECF6\",\"polar\":{\"bgcolor\":\"#E5ECF6\",\"angularaxis\":{\"gridcolor\":\"white\",\"linecolor\":\"white\",\"ticks\":\"\"},\"radialaxis\":{\"gridcolor\":\"white\",\"linecolor\":\"white\",\"ticks\":\"\"}},\"ternary\":{\"bgcolor\":\"#E5ECF6\",\"aaxis\":{\"gridcolor\":\"white\",\"linecolor\":\"white\",\"ticks\":\"\"},\"baxis\":{\"gridcolor\":\"white\",\"linecolor\":\"white\",\"ticks\":\"\"},\"caxis\":{\"gridcolor\":\"white\",\"linecolor\":\"white\",\"ticks\":\"\"}},\"coloraxis\":{\"colorbar\":{\"outlinewidth\":0,\"ticks\":\"\"}},\"colorscale\":{\"sequential\":[[0.0,\"#0d0887\"],[0.1111111111111111,\"#46039f\"],[0.2222222222222222,\"#7201a8\"],[0.3333333333333333,\"#9c179e\"],[0.4444444444444444,\"#bd3786\"],[0.5555555555555556,\"#d8576b\"],[0.6666666666666666,\"#ed7953\"],[0.7777777777777778,\"#fb9f3a\"],[0.8888888888888888,\"#fdca26\"],[1.0,\"#f0f921\"]],\"sequentialminus\":[[0.0,\"#0d0887\"],[0.1111111111111111,\"#46039f\"],[0.2222222222222222,\"#7201a8\"],[0.3333333333333333,\"#9c179e\"],[0.4444444444444444,\"#bd3786\"],[0.5555555555555556,\"#d8576b\"],[0.6666666666666666,\"#ed7953\"],[0.7777777777777778,\"#fb9f3a\"],[0.8888888888888888,\"#fdca26\"],[1.0,\"#f0f921\"]],\"diverging\":[[0,\"#8e0152\"],[0.1,\"#c51b7d\"],[0.2,\"#de77ae\"],[0.3,\"#f1b6da\"],[0.4,\"#fde0ef\"],[0.5,\"#f7f7f7\"],[0.6,\"#e6f5d0\"],[0.7,\"#b8e186\"],[0.8,\"#7fbc41\"],[0.9,\"#4d9221\"],[1,\"#276419\"]]},\"xaxis\":{\"gridcolor\":\"white\",\"linecolor\":\"white\",\"ticks\":\"\",\"title\":{\"standoff\":15},\"zerolinecolor\":\"white\",\"automargin\":true,\"zerolinewidth\":2},\"yaxis\":{\"gridcolor\":\"white\",\"linecolor\":\"white\",\"ticks\":\"\",\"title\":{\"standoff\":15},\"zerolinecolor\":\"white\",\"automargin\":true,\"zerolinewidth\":2},\"scene\":{\"xaxis\":{\"backgroundcolor\":\"#E5ECF6\",\"gridcolor\":\"white\",\"linecolor\":\"white\",\"showbackground\":true,\"ticks\":\"\",\"zerolinecolor\":\"white\",\"gridwidth\":2},\"yaxis\":{\"backgroundcolor\":\"#E5ECF6\",\"gridcolor\":\"white\",\"linecolor\":\"white\",\"showbackground\":true,\"ticks\":\"\",\"zerolinecolor\":\"white\",\"gridwidth\":2},\"zaxis\":{\"backgroundcolor\":\"#E5ECF6\",\"gridcolor\":\"white\",\"linecolor\":\"white\",\"showbackground\":true,\"ticks\":\"\",\"zerolinecolor\":\"white\",\"gridwidth\":2}},\"shapedefaults\":{\"line\":{\"color\":\"#2a3f5f\"}},\"annotationdefaults\":{\"arrowcolor\":\"#2a3f5f\",\"arrowhead\":0,\"arrowwidth\":1},\"geo\":{\"bgcolor\":\"white\",\"landcolor\":\"#E5ECF6\",\"subunitcolor\":\"white\",\"showland\":true,\"showlakes\":true,\"lakecolor\":\"white\"},\"title\":{\"x\":0.05},\"mapbox\":{\"style\":\"light\"}}},\"showlegend\":false,\"plot_bgcolor\":\"rgba(0,0,0,0)\"},                        {\"responsive\": true}                    ).then(function(){\n",
       "                            Plotly.addFrames('8012469a-7d06-478e-8961-2683cd0451be', [{\"data\":[{\"colorscale\":[[0.0,\"rgb(165,0,38)\"],[0.1,\"rgb(215,48,39)\"],[0.2,\"rgb(244,109,67)\"],[0.3,\"rgb(253,174,97)\"],[0.4,\"rgb(254,224,139)\"],[0.5,\"rgb(255,255,191)\"],[0.6,\"rgb(217,239,139)\"],[0.7,\"rgb(166,217,106)\"],[0.8,\"rgb(102,189,99)\"],[0.9,\"rgb(26,152,80)\"],[1.0,\"rgb(0,104,55)\"]],\"showlegend\":false,\"showscale\":false,\"texttemplate\":\"%{z}\",\"z\":[[-10.0,-1.0,-1.0,-1.0,-1.0,-1.0],[3.0,2.0,-1.0,-5.0,-1.0,-1.0],[2.0,-1.0,-1.0,-1.0,-1.0,9.0],[-5.0,-1.0,-1.0,-1.0,9.0,10.0]],\"zmax\":10,\"zmin\":-10,\"type\":\"heatmap\"}],\"name\":\"0\"},{\"data\":[{\"colorscale\":[[0.0,\"rgb(165,0,38)\"],[0.1,\"rgb(215,48,39)\"],[0.2,\"rgb(244,109,67)\"],[0.3,\"rgb(253,174,97)\"],[0.4,\"rgb(254,224,139)\"],[0.5,\"rgb(255,255,191)\"],[0.6,\"rgb(217,239,139)\"],[0.7,\"rgb(166,217,106)\"],[0.8,\"rgb(102,189,99)\"],[0.9,\"rgb(26,152,80)\"],[1.0,\"rgb(0,104,55)\"]],\"showlegend\":false,\"showscale\":false,\"texttemplate\":\"%{z}\",\"z\":[[-10.0,-1.0,-1.0,-1.0,-1.0,-1.0],[3.0,2.0,-1.0,-5.0,-1.0,-1.0],[2.0,-1.0,-1.0,-1.0,-1.0,9.0],[-5.0,-1.0,-1.0,-1.0,9.0,10.0]],\"zmax\":10,\"zmin\":-10,\"type\":\"heatmap\"}],\"name\":\"1\"},{\"data\":[{\"colorscale\":[[0.0,\"rgb(165,0,38)\"],[0.1,\"rgb(215,48,39)\"],[0.2,\"rgb(244,109,67)\"],[0.3,\"rgb(253,174,97)\"],[0.4,\"rgb(254,224,139)\"],[0.5,\"rgb(255,255,191)\"],[0.6,\"rgb(217,239,139)\"],[0.7,\"rgb(166,217,106)\"],[0.8,\"rgb(102,189,99)\"],[0.9,\"rgb(26,152,80)\"],[1.0,\"rgb(0,104,55)\"]],\"showlegend\":false,\"showscale\":false,\"texttemplate\":\"%{z}\",\"z\":[[-10.0,-1.0,-1.0,-1.0,-1.0,-1.0],[3.0,2.0,-1.0,-5.0,-1.0,-1.0],[2.0,-1.0,-1.0,-1.0,-1.0,9.0],[-5.0,-1.5,-1.0,-1.0,9.0,10.0]],\"zmax\":10,\"zmin\":-10,\"type\":\"heatmap\"}],\"name\":\"2\"},{\"data\":[{\"colorscale\":[[0.0,\"rgb(165,0,38)\"],[0.1,\"rgb(215,48,39)\"],[0.2,\"rgb(244,109,67)\"],[0.3,\"rgb(253,174,97)\"],[0.4,\"rgb(254,224,139)\"],[0.5,\"rgb(255,255,191)\"],[0.6,\"rgb(217,239,139)\"],[0.7,\"rgb(166,217,106)\"],[0.8,\"rgb(102,189,99)\"],[0.9,\"rgb(26,152,80)\"],[1.0,\"rgb(0,104,55)\"]],\"showlegend\":false,\"showscale\":false,\"texttemplate\":\"%{z}\",\"z\":[[-10.0,-1.0,-1.0,-1.0,-1.0,-1.0],[3.0,2.0,-1.0,-5.0,-1.0,-1.0],[2.0,-1.0,-1.0,-1.0,-1.0,9.0],[-5.0,-1.5,-1.5,-1.0,9.0,10.0]],\"zmax\":10,\"zmin\":-10,\"type\":\"heatmap\"}],\"name\":\"3\"},{\"data\":[{\"colorscale\":[[0.0,\"rgb(165,0,38)\"],[0.1,\"rgb(215,48,39)\"],[0.2,\"rgb(244,109,67)\"],[0.3,\"rgb(253,174,97)\"],[0.4,\"rgb(254,224,139)\"],[0.5,\"rgb(255,255,191)\"],[0.6,\"rgb(217,239,139)\"],[0.7,\"rgb(166,217,106)\"],[0.8,\"rgb(102,189,99)\"],[0.9,\"rgb(26,152,80)\"],[1.0,\"rgb(0,104,55)\"]],\"showlegend\":false,\"showscale\":false,\"texttemplate\":\"%{z}\",\"z\":[[-10.0,-1.0,-1.0,-1.0,-1.0,-1.0],[3.0,2.0,-1.0,-5.0,-1.0,-1.0],[2.0,-1.0,-1.0,-1.0,-1.0,9.0],[-5.0,-1.5,-1.5,3.5,9.0,10.0]],\"zmax\":10,\"zmin\":-10,\"type\":\"heatmap\"}],\"name\":\"4\"},{\"data\":[{\"colorscale\":[[0.0,\"rgb(165,0,38)\"],[0.1,\"rgb(215,48,39)\"],[0.2,\"rgb(244,109,67)\"],[0.3,\"rgb(253,174,97)\"],[0.4,\"rgb(254,224,139)\"],[0.5,\"rgb(255,255,191)\"],[0.6,\"rgb(217,239,139)\"],[0.7,\"rgb(166,217,106)\"],[0.8,\"rgb(102,189,99)\"],[0.9,\"rgb(26,152,80)\"],[1.0,\"rgb(0,104,55)\"]],\"showlegend\":false,\"showscale\":false,\"texttemplate\":\"%{z}\",\"z\":[[-10.0,-1.0,-1.0,-1.0,-1.0,-1.0],[3.0,2.0,-1.0,-5.0,-1.0,-1.0],[2.0,-1.0,-1.0,-1.0,-1.0,9.0],[-5.0,-1.5,-1.5,3.5,9.0,10.0]],\"zmax\":10,\"zmin\":-10,\"type\":\"heatmap\"}],\"name\":\"5\"},{\"data\":[{\"colorscale\":[[0.0,\"rgb(165,0,38)\"],[0.1,\"rgb(215,48,39)\"],[0.2,\"rgb(244,109,67)\"],[0.3,\"rgb(253,174,97)\"],[0.4,\"rgb(254,224,139)\"],[0.5,\"rgb(255,255,191)\"],[0.6,\"rgb(217,239,139)\"],[0.7,\"rgb(166,217,106)\"],[0.8,\"rgb(102,189,99)\"],[0.9,\"rgb(26,152,80)\"],[1.0,\"rgb(0,104,55)\"]],\"showlegend\":false,\"showscale\":false,\"texttemplate\":\"%{z}\",\"z\":[[-10.0,-1.0,-1.0,-1.0,-1.0,-1.0],[3.0,2.0,-1.0,-5.0,-1.0,-1.0],[2.0,-1.0,-1.0,-1.0,-1.0,9.0],[-5.0,-1.5,-1.5,3.5,9.0,10.0]],\"zmax\":10,\"zmin\":-10,\"type\":\"heatmap\"}],\"name\":\"6\"},{\"data\":[{\"colorscale\":[[0.0,\"rgb(165,0,38)\"],[0.1,\"rgb(215,48,39)\"],[0.2,\"rgb(244,109,67)\"],[0.3,\"rgb(253,174,97)\"],[0.4,\"rgb(254,224,139)\"],[0.5,\"rgb(255,255,191)\"],[0.6,\"rgb(217,239,139)\"],[0.7,\"rgb(166,217,106)\"],[0.8,\"rgb(102,189,99)\"],[0.9,\"rgb(26,152,80)\"],[1.0,\"rgb(0,104,55)\"]],\"showlegend\":false,\"showscale\":false,\"texttemplate\":\"%{z}\",\"z\":[[-10.0,-1.0,-1.0,-1.0,-1.0,-1.0],[3.0,2.0,-1.0,-5.0,-1.0,-1.0],[2.0,-1.0,-1.0,-1.0,-1.0,9.0],[-5.0,-1.5,-1.5,3.5,9.0,10.0]],\"zmax\":10,\"zmin\":-10,\"type\":\"heatmap\"}],\"name\":\"7\"},{\"data\":[{\"colorscale\":[[0.0,\"rgb(165,0,38)\"],[0.1,\"rgb(215,48,39)\"],[0.2,\"rgb(244,109,67)\"],[0.3,\"rgb(253,174,97)\"],[0.4,\"rgb(254,224,139)\"],[0.5,\"rgb(255,255,191)\"],[0.6,\"rgb(217,239,139)\"],[0.7,\"rgb(166,217,106)\"],[0.8,\"rgb(102,189,99)\"],[0.9,\"rgb(26,152,80)\"],[1.0,\"rgb(0,104,55)\"]],\"showlegend\":false,\"showscale\":false,\"texttemplate\":\"%{z}\",\"z\":[[-10.0,-1.0,-1.0,-1.0,-1.0,-1.0],[3.0,2.0,-1.0,-5.0,-1.0,-1.0],[2.0,0.0,-1.0,-1.0,-1.0,9.0],[-5.0,-1.5,-1.5,3.5,9.0,10.0]],\"zmax\":10,\"zmin\":-10,\"type\":\"heatmap\"}],\"name\":\"8\"},{\"data\":[{\"colorscale\":[[0.0,\"rgb(165,0,38)\"],[0.1,\"rgb(215,48,39)\"],[0.2,\"rgb(244,109,67)\"],[0.3,\"rgb(253,174,97)\"],[0.4,\"rgb(254,224,139)\"],[0.5,\"rgb(255,255,191)\"],[0.6,\"rgb(217,239,139)\"],[0.7,\"rgb(166,217,106)\"],[0.8,\"rgb(102,189,99)\"],[0.9,\"rgb(26,152,80)\"],[1.0,\"rgb(0,104,55)\"]],\"showlegend\":false,\"showscale\":false,\"texttemplate\":\"%{z}\",\"z\":[[-10.0,-1.0,-1.0,-1.0,-1.0,-1.0],[3.0,2.0,-1.0,-5.0,-1.0,-1.0],[2.0,0.0,-1.5,-1.0,-1.0,9.0],[-5.0,-1.5,-1.5,3.5,9.0,10.0]],\"zmax\":10,\"zmin\":-10,\"type\":\"heatmap\"}],\"name\":\"9\"},{\"data\":[{\"colorscale\":[[0.0,\"rgb(165,0,38)\"],[0.1,\"rgb(215,48,39)\"],[0.2,\"rgb(244,109,67)\"],[0.3,\"rgb(253,174,97)\"],[0.4,\"rgb(254,224,139)\"],[0.5,\"rgb(255,255,191)\"],[0.6,\"rgb(217,239,139)\"],[0.7,\"rgb(166,217,106)\"],[0.8,\"rgb(102,189,99)\"],[0.9,\"rgb(26,152,80)\"],[1.0,\"rgb(0,104,55)\"]],\"showlegend\":false,\"showscale\":false,\"texttemplate\":\"%{z}\",\"z\":[[-10.0,-1.0,-1.0,-1.0,-1.0,-1.0],[3.0,2.0,-1.0,-5.0,-1.0,-1.0],[2.0,0.0,-1.5,-1.5,-1.0,9.0],[-5.0,-1.5,-1.5,3.5,9.0,10.0]],\"zmax\":10,\"zmin\":-10,\"type\":\"heatmap\"}],\"name\":\"10\"},{\"data\":[{\"colorscale\":[[0.0,\"rgb(165,0,38)\"],[0.1,\"rgb(215,48,39)\"],[0.2,\"rgb(244,109,67)\"],[0.3,\"rgb(253,174,97)\"],[0.4,\"rgb(254,224,139)\"],[0.5,\"rgb(255,255,191)\"],[0.6,\"rgb(217,239,139)\"],[0.7,\"rgb(166,217,106)\"],[0.8,\"rgb(102,189,99)\"],[0.9,\"rgb(26,152,80)\"],[1.0,\"rgb(0,104,55)\"]],\"showlegend\":false,\"showscale\":false,\"texttemplate\":\"%{z}\",\"z\":[[-10.0,-1.0,-1.0,-1.0,-1.0,-1.0],[3.0,2.0,-1.0,-5.0,-1.0,-1.0],[2.0,0.0,-1.5,-1.5,3.5,9.0],[-5.0,-1.5,-1.5,3.5,9.0,10.0]],\"zmax\":10,\"zmin\":-10,\"type\":\"heatmap\"}],\"name\":\"11\"},{\"data\":[{\"colorscale\":[[0.0,\"rgb(165,0,38)\"],[0.1,\"rgb(215,48,39)\"],[0.2,\"rgb(244,109,67)\"],[0.3,\"rgb(253,174,97)\"],[0.4,\"rgb(254,224,139)\"],[0.5,\"rgb(255,255,191)\"],[0.6,\"rgb(217,239,139)\"],[0.7,\"rgb(166,217,106)\"],[0.8,\"rgb(102,189,99)\"],[0.9,\"rgb(26,152,80)\"],[1.0,\"rgb(0,104,55)\"]],\"showlegend\":false,\"showscale\":false,\"texttemplate\":\"%{z}\",\"z\":[[-10.0,-1.0,-1.0,-1.0,-1.0,-1.0],[3.0,2.0,-1.0,-5.0,-1.0,-1.0],[2.0,0.0,-1.5,-1.5,3.5,9.0],[-5.0,-1.5,-1.5,3.5,9.0,10.0]],\"zmax\":10,\"zmin\":-10,\"type\":\"heatmap\"}],\"name\":\"12\"},{\"data\":[{\"colorscale\":[[0.0,\"rgb(165,0,38)\"],[0.1,\"rgb(215,48,39)\"],[0.2,\"rgb(244,109,67)\"],[0.3,\"rgb(253,174,97)\"],[0.4,\"rgb(254,224,139)\"],[0.5,\"rgb(255,255,191)\"],[0.6,\"rgb(217,239,139)\"],[0.7,\"rgb(166,217,106)\"],[0.8,\"rgb(102,189,99)\"],[0.9,\"rgb(26,152,80)\"],[1.0,\"rgb(0,104,55)\"]],\"showlegend\":false,\"showscale\":false,\"texttemplate\":\"%{z}\",\"z\":[[-10.0,-1.0,-1.0,-1.0,-1.0,-1.0],[3.0,2.0,-1.0,-5.0,-1.0,-1.0],[2.0,0.0,-1.5,-1.5,3.5,9.0],[-5.0,-1.5,-1.5,3.5,9.0,10.0]],\"zmax\":10,\"zmin\":-10,\"type\":\"heatmap\"}],\"name\":\"13\"},{\"data\":[{\"colorscale\":[[0.0,\"rgb(165,0,38)\"],[0.1,\"rgb(215,48,39)\"],[0.2,\"rgb(244,109,67)\"],[0.3,\"rgb(253,174,97)\"],[0.4,\"rgb(254,224,139)\"],[0.5,\"rgb(255,255,191)\"],[0.6,\"rgb(217,239,139)\"],[0.7,\"rgb(166,217,106)\"],[0.8,\"rgb(102,189,99)\"],[0.9,\"rgb(26,152,80)\"],[1.0,\"rgb(0,104,55)\"]],\"showlegend\":false,\"showscale\":false,\"texttemplate\":\"%{z}\",\"z\":[[-10.0,-1.0,-1.0,-1.0,-1.0,-1.0],[3.0,2.0,-1.0,-5.0,-1.0,-1.0],[2.0,0.0,-1.5,-1.5,3.5,9.0],[-5.0,-1.5,-1.5,3.5,9.0,10.0]],\"zmax\":10,\"zmin\":-10,\"type\":\"heatmap\"}],\"name\":\"14\"},{\"data\":[{\"colorscale\":[[0.0,\"rgb(165,0,38)\"],[0.1,\"rgb(215,48,39)\"],[0.2,\"rgb(244,109,67)\"],[0.3,\"rgb(253,174,97)\"],[0.4,\"rgb(254,224,139)\"],[0.5,\"rgb(255,255,191)\"],[0.6,\"rgb(217,239,139)\"],[0.7,\"rgb(166,217,106)\"],[0.8,\"rgb(102,189,99)\"],[0.9,\"rgb(26,152,80)\"],[1.0,\"rgb(0,104,55)\"]],\"showlegend\":false,\"showscale\":false,\"texttemplate\":\"%{z}\",\"z\":[[-10.0,-1.0,-1.0,-1.0,-1.0,-1.0],[3.0,2.0,0.0,-5.0,-1.0,-1.0],[2.0,0.0,-1.5,-1.5,3.5,9.0],[-5.0,-1.5,-1.5,3.5,9.0,10.0]],\"zmax\":10,\"zmin\":-10,\"type\":\"heatmap\"}],\"name\":\"15\"},{\"data\":[{\"colorscale\":[[0.0,\"rgb(165,0,38)\"],[0.1,\"rgb(215,48,39)\"],[0.2,\"rgb(244,109,67)\"],[0.3,\"rgb(253,174,97)\"],[0.4,\"rgb(254,224,139)\"],[0.5,\"rgb(255,255,191)\"],[0.6,\"rgb(217,239,139)\"],[0.7,\"rgb(166,217,106)\"],[0.8,\"rgb(102,189,99)\"],[0.9,\"rgb(26,152,80)\"],[1.0,\"rgb(0,104,55)\"]],\"showlegend\":false,\"showscale\":false,\"texttemplate\":\"%{z}\",\"z\":[[-10.0,-1.0,-1.0,-1.0,-1.0,-1.0],[3.0,2.0,0.0,-5.0,-1.0,-1.0],[2.0,0.0,-1.5,-1.5,3.5,9.0],[-5.0,-1.5,-1.5,3.5,9.0,10.0]],\"zmax\":10,\"zmin\":-10,\"type\":\"heatmap\"}],\"name\":\"16\"},{\"data\":[{\"colorscale\":[[0.0,\"rgb(165,0,38)\"],[0.1,\"rgb(215,48,39)\"],[0.2,\"rgb(244,109,67)\"],[0.3,\"rgb(253,174,97)\"],[0.4,\"rgb(254,224,139)\"],[0.5,\"rgb(255,255,191)\"],[0.6,\"rgb(217,239,139)\"],[0.7,\"rgb(166,217,106)\"],[0.8,\"rgb(102,189,99)\"],[0.9,\"rgb(26,152,80)\"],[1.0,\"rgb(0,104,55)\"]],\"showlegend\":false,\"showscale\":false,\"texttemplate\":\"%{z}\",\"z\":[[-10.0,-1.0,-1.0,-1.0,-1.0,-1.0],[3.0,2.0,0.0,-5.0,-1.5,-1.0],[2.0,0.0,-1.5,-1.5,3.5,9.0],[-5.0,-1.5,-1.5,3.5,9.0,10.0]],\"zmax\":10,\"zmin\":-10,\"type\":\"heatmap\"}],\"name\":\"17\"},{\"data\":[{\"colorscale\":[[0.0,\"rgb(165,0,38)\"],[0.1,\"rgb(215,48,39)\"],[0.2,\"rgb(244,109,67)\"],[0.3,\"rgb(253,174,97)\"],[0.4,\"rgb(254,224,139)\"],[0.5,\"rgb(255,255,191)\"],[0.6,\"rgb(217,239,139)\"],[0.7,\"rgb(166,217,106)\"],[0.8,\"rgb(102,189,99)\"],[0.9,\"rgb(26,152,80)\"],[1.0,\"rgb(0,104,55)\"]],\"showlegend\":false,\"showscale\":false,\"texttemplate\":\"%{z}\",\"z\":[[-10.0,-1.0,-1.0,-1.0,-1.0,-1.0],[3.0,2.0,0.0,-5.0,-1.5,3.5],[2.0,0.0,-1.5,-1.5,3.5,9.0],[-5.0,-1.5,-1.5,3.5,9.0,10.0]],\"zmax\":10,\"zmin\":-10,\"type\":\"heatmap\"}],\"name\":\"18\"},{\"data\":[{\"colorscale\":[[0.0,\"rgb(165,0,38)\"],[0.1,\"rgb(215,48,39)\"],[0.2,\"rgb(244,109,67)\"],[0.3,\"rgb(253,174,97)\"],[0.4,\"rgb(254,224,139)\"],[0.5,\"rgb(255,255,191)\"],[0.6,\"rgb(217,239,139)\"],[0.7,\"rgb(166,217,106)\"],[0.8,\"rgb(102,189,99)\"],[0.9,\"rgb(26,152,80)\"],[1.0,\"rgb(0,104,55)\"]],\"showlegend\":false,\"showscale\":false,\"texttemplate\":\"%{z}\",\"z\":[[-10.0,-1.0,-1.0,-1.0,-1.0,-1.0],[3.0,2.0,0.0,-5.0,-1.5,3.5],[2.0,0.0,-1.5,-1.5,3.5,9.0],[-5.0,-1.5,-1.5,3.5,9.0,10.0]],\"zmax\":10,\"zmin\":-10,\"type\":\"heatmap\"}],\"name\":\"19\"},{\"data\":[{\"colorscale\":[[0.0,\"rgb(165,0,38)\"],[0.1,\"rgb(215,48,39)\"],[0.2,\"rgb(244,109,67)\"],[0.3,\"rgb(253,174,97)\"],[0.4,\"rgb(254,224,139)\"],[0.5,\"rgb(255,255,191)\"],[0.6,\"rgb(217,239,139)\"],[0.7,\"rgb(166,217,106)\"],[0.8,\"rgb(102,189,99)\"],[0.9,\"rgb(26,152,80)\"],[1.0,\"rgb(0,104,55)\"]],\"showlegend\":false,\"showscale\":false,\"texttemplate\":\"%{z}\",\"z\":[[-10.0,0.0,-1.0,-1.0,-1.0,-1.0],[3.0,2.0,0.0,-5.0,-1.5,3.5],[2.0,0.0,-1.5,-1.5,3.5,9.0],[-5.0,-1.5,-1.5,3.5,9.0,10.0]],\"zmax\":10,\"zmin\":-10,\"type\":\"heatmap\"}],\"name\":\"20\"},{\"data\":[{\"colorscale\":[[0.0,\"rgb(165,0,38)\"],[0.1,\"rgb(215,48,39)\"],[0.2,\"rgb(244,109,67)\"],[0.3,\"rgb(253,174,97)\"],[0.4,\"rgb(254,224,139)\"],[0.5,\"rgb(255,255,191)\"],[0.6,\"rgb(217,239,139)\"],[0.7,\"rgb(166,217,106)\"],[0.8,\"rgb(102,189,99)\"],[0.9,\"rgb(26,152,80)\"],[1.0,\"rgb(0,104,55)\"]],\"showlegend\":false,\"showscale\":false,\"texttemplate\":\"%{z}\",\"z\":[[-10.0,0.0,-1.5,-1.0,-1.0,-1.0],[3.0,2.0,0.0,-5.0,-1.5,3.5],[2.0,0.0,-1.5,-1.5,3.5,9.0],[-5.0,-1.5,-1.5,3.5,9.0,10.0]],\"zmax\":10,\"zmin\":-10,\"type\":\"heatmap\"}],\"name\":\"21\"},{\"data\":[{\"colorscale\":[[0.0,\"rgb(165,0,38)\"],[0.1,\"rgb(215,48,39)\"],[0.2,\"rgb(244,109,67)\"],[0.3,\"rgb(253,174,97)\"],[0.4,\"rgb(254,224,139)\"],[0.5,\"rgb(255,255,191)\"],[0.6,\"rgb(217,239,139)\"],[0.7,\"rgb(166,217,106)\"],[0.8,\"rgb(102,189,99)\"],[0.9,\"rgb(26,152,80)\"],[1.0,\"rgb(0,104,55)\"]],\"showlegend\":false,\"showscale\":false,\"texttemplate\":\"%{z}\",\"z\":[[-10.0,0.0,-1.5,-1.5,-1.0,-1.0],[3.0,2.0,0.0,-5.0,-1.5,3.5],[2.0,0.0,-1.5,-1.5,3.5,9.0],[-5.0,-1.5,-1.5,3.5,9.0,10.0]],\"zmax\":10,\"zmin\":-10,\"type\":\"heatmap\"}],\"name\":\"22\"},{\"data\":[{\"colorscale\":[[0.0,\"rgb(165,0,38)\"],[0.1,\"rgb(215,48,39)\"],[0.2,\"rgb(244,109,67)\"],[0.3,\"rgb(253,174,97)\"],[0.4,\"rgb(254,224,139)\"],[0.5,\"rgb(255,255,191)\"],[0.6,\"rgb(217,239,139)\"],[0.7,\"rgb(166,217,106)\"],[0.8,\"rgb(102,189,99)\"],[0.9,\"rgb(26,152,80)\"],[1.0,\"rgb(0,104,55)\"]],\"showlegend\":false,\"showscale\":false,\"texttemplate\":\"%{z}\",\"z\":[[-10.0,0.0,-1.5,-1.5,-1.5,-1.0],[3.0,2.0,0.0,-5.0,-1.5,3.5],[2.0,0.0,-1.5,-1.5,3.5,9.0],[-5.0,-1.5,-1.5,3.5,9.0,10.0]],\"zmax\":10,\"zmin\":-10,\"type\":\"heatmap\"}],\"name\":\"23\"},{\"data\":[{\"colorscale\":[[0.0,\"rgb(165,0,38)\"],[0.1,\"rgb(215,48,39)\"],[0.2,\"rgb(244,109,67)\"],[0.3,\"rgb(253,174,97)\"],[0.4,\"rgb(254,224,139)\"],[0.5,\"rgb(255,255,191)\"],[0.6,\"rgb(217,239,139)\"],[0.7,\"rgb(166,217,106)\"],[0.8,\"rgb(102,189,99)\"],[0.9,\"rgb(26,152,80)\"],[1.0,\"rgb(0,104,55)\"]],\"showlegend\":false,\"showscale\":false,\"texttemplate\":\"%{z}\",\"z\":[[-10.0,0.0,-1.5,-1.5,-1.5,-1.5],[3.0,2.0,0.0,-5.0,-1.5,3.5],[2.0,0.0,-1.5,-1.5,3.5,9.0],[-5.0,-1.5,-1.5,3.5,9.0,10.0]],\"zmax\":10,\"zmin\":-10,\"type\":\"heatmap\"}],\"name\":\"24\"}]);\n",
       "                        }).then(function(){\n",
       "                            \n",
       "var gd = document.getElementById('8012469a-7d06-478e-8961-2683cd0451be');\n",
       "var x = new MutationObserver(function (mutations, observer) {{\n",
       "        var display = window.getComputedStyle(gd).display;\n",
       "        if (!display || display === 'none') {{\n",
       "            console.log([gd, 'removed!']);\n",
       "            Plotly.purge(gd);\n",
       "            observer.disconnect();\n",
       "        }}\n",
       "}});\n",
       "\n",
       "// Listen for the removal of the full notebook cells\n",
       "var notebookContainer = gd.closest('#notebook-container');\n",
       "if (notebookContainer) {{\n",
       "    x.observe(notebookContainer, {childList: true});\n",
       "}}\n",
       "\n",
       "// Listen for the clearing of the current output cell\n",
       "var outputEl = gd.closest('.output');\n",
       "if (outputEl) {{\n",
       "    x.observe(outputEl, {childList: true});\n",
       "}}\n",
       "\n",
       "                        })                };                });            </script>        </div>"
      ]
     },
     "metadata": {},
     "output_type": "display_data"
    }
   ],
   "source": [
    "video_2 = Video_callback(env.shape, value_range = (rewards.min(), rewards.max()))\n",
    "V_new, delta = update_values(env, V_new, discount_factor=0.5, verbose = 0, callback = video_2)\n",
    "video_2.plot()"
   ]
  },
  {
   "attachments": {},
   "cell_type": "markdown",
   "metadata": {},
   "source": [
    "# Full value iteration algorithm"
   ]
  },
  {
   "cell_type": "code",
   "execution_count": 8,
   "metadata": {},
   "outputs": [],
   "source": [
    "# Value Iteration\n",
    "def value_iteration(env, discount_factor=1.0, theta=0.00001, verbose = 0,  callback = None):\n",
    "    \"\"\"\n",
    "    Varry out Value iteration given an environment and a full description\n",
    "    of the environment's dynamics.\n",
    "\n",
    "    Args:\n",
    "        env: OpenAI env. env.P -> transition dynamics of the environment.\n",
    "            env.P[s][a] [(prob, next_state, reward, done)].\n",
    "            env.nS is number of states in the environment.\n",
    "            env.nA is number of actions in the environment.\n",
    "        discount_factor: Gamma discount factor.\n",
    "        theta: tolernace level to stop the iterations\n",
    "\n",
    "    Returns:\n",
    "        policy: [S, A] shaped matrix representing optimal policy.\n",
    "        value : [S] length vector representing optimal value\n",
    "    \"\"\"\n",
    "\n",
    "    def argmax_a(arr):\n",
    "        \"\"\"\n",
    "        Return idx of max element in an array.\n",
    "        \"\"\"\n",
    "        max_idx = []\n",
    "        max_val = float('-inf')\n",
    "        for idx, elem in enumerate(arr):\n",
    "            if elem == max_val:\n",
    "                max_idx.append(idx)\n",
    "            elif elem > max_val:\n",
    "                max_idx = [idx]\n",
    "                max_val = elem\n",
    "        return max_idx\n",
    "\n",
    "    optimal_policy = np.zeros([env.nS, env.nA])\n",
    "    V = np.zeros(env.nS)\n",
    "    V_new = np.copy(V)\n",
    "    i = 0\n",
    "    if verbose > 0:\n",
    "        env.grid_print(V_new, k=i)\n",
    "    if callback is not None:\n",
    "        callback.write(np.copy(V_new))\n",
    "\n",
    "    while True:\n",
    "        i += 1\n",
    "        delta = 0\n",
    "        # For each state, perform a \"greedy backup\"\n",
    "        V_new, delta = update_values(env, V, \n",
    "                                     discount_factor=1.0, \n",
    "                                     verbose = verbose - 1, \n",
    "                                     delta = delta)\n",
    "        \n",
    "        V = np.copy(V_new)\n",
    "        if verbose > 0:\n",
    "            env.grid_print(V_new, k=i)\n",
    "        if callback is not None:\n",
    "            callback.write(np.copy(V_new))\n",
    "\n",
    "        # Stop if change is below a threshold\n",
    "        if delta < theta:\n",
    "            break\n",
    "\n",
    "    # V(s) has optimal values. Use these values and one step backup\n",
    "    # to calculate optimal policy\n",
    "    for s in range(env.nS):\n",
    "        q = np.zeros(env.nA)\n",
    "        # Look at the possible next actions\n",
    "        for a in range(env.nA):\n",
    "            # For each action, look at the possible next states\n",
    "            # and calculate q[s,a]\n",
    "            for prob, next_state, reward, done in env.P[s][a]:\n",
    "\n",
    "                # Calculate the value for each action as per backup diagram\n",
    "                if not done:\n",
    "                    q[a] += prob * (reward + discount_factor * V[next_state])\n",
    "                else:\n",
    "                    q[a] += prob * reward\n",
    "\n",
    "        # find the optimal actions\n",
    "        # We are returning stochastic policy which will assign equal\n",
    "        # probability to all those actions which are equal to maximum value\n",
    "        best_actions = argmax_a(q)\n",
    "        optimal_policy[s, best_actions] = 1.0 / len(best_actions)\n",
    "\n",
    "    return optimal_policy, V"
   ]
  },
  {
   "cell_type": "code",
   "execution_count": 9,
   "metadata": {},
   "outputs": [
    {
     "data": {
      "text/html": [
       "<div>                            <div id=\"5509d2c3-8942-4a1c-8836-f7638f39419b\" class=\"plotly-graph-div\" style=\"height:525px; width:100%;\"></div>            <script type=\"text/javascript\">                require([\"plotly\"], function(Plotly) {                    window.PLOTLYENV=window.PLOTLYENV || {};                                    if (document.getElementById(\"5509d2c3-8942-4a1c-8836-f7638f39419b\")) {                    Plotly.newPlot(                        \"5509d2c3-8942-4a1c-8836-f7638f39419b\",                        [{\"colorscale\":[[0.0,\"rgb(165,0,38)\"],[0.1,\"rgb(215,48,39)\"],[0.2,\"rgb(244,109,67)\"],[0.3,\"rgb(253,174,97)\"],[0.4,\"rgb(254,224,139)\"],[0.5,\"rgb(255,255,191)\"],[0.6,\"rgb(217,239,139)\"],[0.7,\"rgb(166,217,106)\"],[0.8,\"rgb(102,189,99)\"],[0.9,\"rgb(26,152,80)\"],[1.0,\"rgb(0,104,55)\"]],\"showlegend\":false,\"showscale\":false,\"texttemplate\":\"%{z}\",\"z\":[[0.0,0.0,0.0,0.0,0.0,0.0],[0.0,0.0,0.0,0.0,0.0,0.0],[0.0,0.0,0.0,0.0,0.0,0.0],[0.0,0.0,0.0,0.0,0.0,0.0]],\"zmax\":10,\"zmin\":-10,\"type\":\"heatmap\"}],                        {\"sliders\":[{\"active\":0,\"currentvalue\":{\"font\":{\"size\":20},\"prefix\":\"Iteration: \",\"visible\":true,\"xanchor\":\"right\"},\"len\":0.9,\"pad\":{\"b\":10,\"t\":50},\"steps\":[{\"args\":[[0],{\"frame\":{\"duration\":300,\"redraw\":true},\"mode\":\"immediate\",\"transition\":{\"duration\":300}}],\"label\":\"0\",\"method\":\"animate\"},{\"args\":[[1],{\"frame\":{\"duration\":300,\"redraw\":true},\"mode\":\"immediate\",\"transition\":{\"duration\":300}}],\"label\":\"1\",\"method\":\"animate\"},{\"args\":[[2],{\"frame\":{\"duration\":300,\"redraw\":true},\"mode\":\"immediate\",\"transition\":{\"duration\":300}}],\"label\":\"2\",\"method\":\"animate\"},{\"args\":[[3],{\"frame\":{\"duration\":300,\"redraw\":true},\"mode\":\"immediate\",\"transition\":{\"duration\":300}}],\"label\":\"3\",\"method\":\"animate\"},{\"args\":[[4],{\"frame\":{\"duration\":300,\"redraw\":true},\"mode\":\"immediate\",\"transition\":{\"duration\":300}}],\"label\":\"4\",\"method\":\"animate\"},{\"args\":[[5],{\"frame\":{\"duration\":300,\"redraw\":true},\"mode\":\"immediate\",\"transition\":{\"duration\":300}}],\"label\":\"5\",\"method\":\"animate\"},{\"args\":[[6],{\"frame\":{\"duration\":300,\"redraw\":true},\"mode\":\"immediate\",\"transition\":{\"duration\":300}}],\"label\":\"6\",\"method\":\"animate\"},{\"args\":[[7],{\"frame\":{\"duration\":300,\"redraw\":true},\"mode\":\"immediate\",\"transition\":{\"duration\":300}}],\"label\":\"7\",\"method\":\"animate\"},{\"args\":[[8],{\"frame\":{\"duration\":300,\"redraw\":true},\"mode\":\"immediate\",\"transition\":{\"duration\":300}}],\"label\":\"8\",\"method\":\"animate\"}],\"transition\":{\"duration\":300,\"easing\":\"cubic-in-out\"},\"x\":0.1,\"xanchor\":\"left\",\"y\":0,\"yanchor\":\"top\"}],\"updatemenus\":[{\"buttons\":[{\"args\":[null,{\"frame\":{\"duration\":500,\"redraw\":true},\"fromcurrent\":true,\"transition\":{\"duration\":300,\"easing\":\"quadratic-in-out\"}}],\"label\":\"Play\",\"method\":\"animate\"},{\"args\":[[null],{\"frame\":{\"duration\":0,\"redraw\":true},\"mode\":\"immediate\",\"transition\":{\"duration\":0}}],\"label\":\"Pause\",\"method\":\"animate\"}],\"direction\":\"left\",\"pad\":{\"r\":10,\"t\":87},\"showactive\":false,\"type\":\"buttons\",\"x\":0.1,\"xanchor\":\"right\",\"y\":0,\"yanchor\":\"top\"}],\"xaxis\":{\"visible\":false},\"yaxis\":{\"scaleanchor\":\"x\",\"visible\":false},\"template\":{\"data\":{\"histogram2dcontour\":[{\"type\":\"histogram2dcontour\",\"colorbar\":{\"outlinewidth\":0,\"ticks\":\"\"},\"colorscale\":[[0.0,\"#0d0887\"],[0.1111111111111111,\"#46039f\"],[0.2222222222222222,\"#7201a8\"],[0.3333333333333333,\"#9c179e\"],[0.4444444444444444,\"#bd3786\"],[0.5555555555555556,\"#d8576b\"],[0.6666666666666666,\"#ed7953\"],[0.7777777777777778,\"#fb9f3a\"],[0.8888888888888888,\"#fdca26\"],[1.0,\"#f0f921\"]]}],\"choropleth\":[{\"type\":\"choropleth\",\"colorbar\":{\"outlinewidth\":0,\"ticks\":\"\"}}],\"histogram2d\":[{\"type\":\"histogram2d\",\"colorbar\":{\"outlinewidth\":0,\"ticks\":\"\"},\"colorscale\":[[0.0,\"#0d0887\"],[0.1111111111111111,\"#46039f\"],[0.2222222222222222,\"#7201a8\"],[0.3333333333333333,\"#9c179e\"],[0.4444444444444444,\"#bd3786\"],[0.5555555555555556,\"#d8576b\"],[0.6666666666666666,\"#ed7953\"],[0.7777777777777778,\"#fb9f3a\"],[0.8888888888888888,\"#fdca26\"],[1.0,\"#f0f921\"]]}],\"heatmap\":[{\"type\":\"heatmap\",\"colorbar\":{\"outlinewidth\":0,\"ticks\":\"\"},\"colorscale\":[[0.0,\"#0d0887\"],[0.1111111111111111,\"#46039f\"],[0.2222222222222222,\"#7201a8\"],[0.3333333333333333,\"#9c179e\"],[0.4444444444444444,\"#bd3786\"],[0.5555555555555556,\"#d8576b\"],[0.6666666666666666,\"#ed7953\"],[0.7777777777777778,\"#fb9f3a\"],[0.8888888888888888,\"#fdca26\"],[1.0,\"#f0f921\"]]}],\"heatmapgl\":[{\"type\":\"heatmapgl\",\"colorbar\":{\"outlinewidth\":0,\"ticks\":\"\"},\"colorscale\":[[0.0,\"#0d0887\"],[0.1111111111111111,\"#46039f\"],[0.2222222222222222,\"#7201a8\"],[0.3333333333333333,\"#9c179e\"],[0.4444444444444444,\"#bd3786\"],[0.5555555555555556,\"#d8576b\"],[0.6666666666666666,\"#ed7953\"],[0.7777777777777778,\"#fb9f3a\"],[0.8888888888888888,\"#fdca26\"],[1.0,\"#f0f921\"]]}],\"contourcarpet\":[{\"type\":\"contourcarpet\",\"colorbar\":{\"outlinewidth\":0,\"ticks\":\"\"}}],\"contour\":[{\"type\":\"contour\",\"colorbar\":{\"outlinewidth\":0,\"ticks\":\"\"},\"colorscale\":[[0.0,\"#0d0887\"],[0.1111111111111111,\"#46039f\"],[0.2222222222222222,\"#7201a8\"],[0.3333333333333333,\"#9c179e\"],[0.4444444444444444,\"#bd3786\"],[0.5555555555555556,\"#d8576b\"],[0.6666666666666666,\"#ed7953\"],[0.7777777777777778,\"#fb9f3a\"],[0.8888888888888888,\"#fdca26\"],[1.0,\"#f0f921\"]]}],\"surface\":[{\"type\":\"surface\",\"colorbar\":{\"outlinewidth\":0,\"ticks\":\"\"},\"colorscale\":[[0.0,\"#0d0887\"],[0.1111111111111111,\"#46039f\"],[0.2222222222222222,\"#7201a8\"],[0.3333333333333333,\"#9c179e\"],[0.4444444444444444,\"#bd3786\"],[0.5555555555555556,\"#d8576b\"],[0.6666666666666666,\"#ed7953\"],[0.7777777777777778,\"#fb9f3a\"],[0.8888888888888888,\"#fdca26\"],[1.0,\"#f0f921\"]]}],\"mesh3d\":[{\"type\":\"mesh3d\",\"colorbar\":{\"outlinewidth\":0,\"ticks\":\"\"}}],\"scatter\":[{\"fillpattern\":{\"fillmode\":\"overlay\",\"size\":10,\"solidity\":0.2},\"type\":\"scatter\"}],\"parcoords\":[{\"type\":\"parcoords\",\"line\":{\"colorbar\":{\"outlinewidth\":0,\"ticks\":\"\"}}}],\"scatterpolargl\":[{\"type\":\"scatterpolargl\",\"marker\":{\"colorbar\":{\"outlinewidth\":0,\"ticks\":\"\"}}}],\"bar\":[{\"error_x\":{\"color\":\"#2a3f5f\"},\"error_y\":{\"color\":\"#2a3f5f\"},\"marker\":{\"line\":{\"color\":\"#E5ECF6\",\"width\":0.5},\"pattern\":{\"fillmode\":\"overlay\",\"size\":10,\"solidity\":0.2}},\"type\":\"bar\"}],\"scattergeo\":[{\"type\":\"scattergeo\",\"marker\":{\"colorbar\":{\"outlinewidth\":0,\"ticks\":\"\"}}}],\"scatterpolar\":[{\"type\":\"scatterpolar\",\"marker\":{\"colorbar\":{\"outlinewidth\":0,\"ticks\":\"\"}}}],\"histogram\":[{\"marker\":{\"pattern\":{\"fillmode\":\"overlay\",\"size\":10,\"solidity\":0.2}},\"type\":\"histogram\"}],\"scattergl\":[{\"type\":\"scattergl\",\"marker\":{\"colorbar\":{\"outlinewidth\":0,\"ticks\":\"\"}}}],\"scatter3d\":[{\"type\":\"scatter3d\",\"line\":{\"colorbar\":{\"outlinewidth\":0,\"ticks\":\"\"}},\"marker\":{\"colorbar\":{\"outlinewidth\":0,\"ticks\":\"\"}}}],\"scattermapbox\":[{\"type\":\"scattermapbox\",\"marker\":{\"colorbar\":{\"outlinewidth\":0,\"ticks\":\"\"}}}],\"scatterternary\":[{\"type\":\"scatterternary\",\"marker\":{\"colorbar\":{\"outlinewidth\":0,\"ticks\":\"\"}}}],\"scattercarpet\":[{\"type\":\"scattercarpet\",\"marker\":{\"colorbar\":{\"outlinewidth\":0,\"ticks\":\"\"}}}],\"carpet\":[{\"aaxis\":{\"endlinecolor\":\"#2a3f5f\",\"gridcolor\":\"white\",\"linecolor\":\"white\",\"minorgridcolor\":\"white\",\"startlinecolor\":\"#2a3f5f\"},\"baxis\":{\"endlinecolor\":\"#2a3f5f\",\"gridcolor\":\"white\",\"linecolor\":\"white\",\"minorgridcolor\":\"white\",\"startlinecolor\":\"#2a3f5f\"},\"type\":\"carpet\"}],\"table\":[{\"cells\":{\"fill\":{\"color\":\"#EBF0F8\"},\"line\":{\"color\":\"white\"}},\"header\":{\"fill\":{\"color\":\"#C8D4E3\"},\"line\":{\"color\":\"white\"}},\"type\":\"table\"}],\"barpolar\":[{\"marker\":{\"line\":{\"color\":\"#E5ECF6\",\"width\":0.5},\"pattern\":{\"fillmode\":\"overlay\",\"size\":10,\"solidity\":0.2}},\"type\":\"barpolar\"}],\"pie\":[{\"automargin\":true,\"type\":\"pie\"}]},\"layout\":{\"autotypenumbers\":\"strict\",\"colorway\":[\"#636efa\",\"#EF553B\",\"#00cc96\",\"#ab63fa\",\"#FFA15A\",\"#19d3f3\",\"#FF6692\",\"#B6E880\",\"#FF97FF\",\"#FECB52\"],\"font\":{\"color\":\"#2a3f5f\"},\"hovermode\":\"closest\",\"hoverlabel\":{\"align\":\"left\"},\"paper_bgcolor\":\"white\",\"plot_bgcolor\":\"#E5ECF6\",\"polar\":{\"bgcolor\":\"#E5ECF6\",\"angularaxis\":{\"gridcolor\":\"white\",\"linecolor\":\"white\",\"ticks\":\"\"},\"radialaxis\":{\"gridcolor\":\"white\",\"linecolor\":\"white\",\"ticks\":\"\"}},\"ternary\":{\"bgcolor\":\"#E5ECF6\",\"aaxis\":{\"gridcolor\":\"white\",\"linecolor\":\"white\",\"ticks\":\"\"},\"baxis\":{\"gridcolor\":\"white\",\"linecolor\":\"white\",\"ticks\":\"\"},\"caxis\":{\"gridcolor\":\"white\",\"linecolor\":\"white\",\"ticks\":\"\"}},\"coloraxis\":{\"colorbar\":{\"outlinewidth\":0,\"ticks\":\"\"}},\"colorscale\":{\"sequential\":[[0.0,\"#0d0887\"],[0.1111111111111111,\"#46039f\"],[0.2222222222222222,\"#7201a8\"],[0.3333333333333333,\"#9c179e\"],[0.4444444444444444,\"#bd3786\"],[0.5555555555555556,\"#d8576b\"],[0.6666666666666666,\"#ed7953\"],[0.7777777777777778,\"#fb9f3a\"],[0.8888888888888888,\"#fdca26\"],[1.0,\"#f0f921\"]],\"sequentialminus\":[[0.0,\"#0d0887\"],[0.1111111111111111,\"#46039f\"],[0.2222222222222222,\"#7201a8\"],[0.3333333333333333,\"#9c179e\"],[0.4444444444444444,\"#bd3786\"],[0.5555555555555556,\"#d8576b\"],[0.6666666666666666,\"#ed7953\"],[0.7777777777777778,\"#fb9f3a\"],[0.8888888888888888,\"#fdca26\"],[1.0,\"#f0f921\"]],\"diverging\":[[0,\"#8e0152\"],[0.1,\"#c51b7d\"],[0.2,\"#de77ae\"],[0.3,\"#f1b6da\"],[0.4,\"#fde0ef\"],[0.5,\"#f7f7f7\"],[0.6,\"#e6f5d0\"],[0.7,\"#b8e186\"],[0.8,\"#7fbc41\"],[0.9,\"#4d9221\"],[1,\"#276419\"]]},\"xaxis\":{\"gridcolor\":\"white\",\"linecolor\":\"white\",\"ticks\":\"\",\"title\":{\"standoff\":15},\"zerolinecolor\":\"white\",\"automargin\":true,\"zerolinewidth\":2},\"yaxis\":{\"gridcolor\":\"white\",\"linecolor\":\"white\",\"ticks\":\"\",\"title\":{\"standoff\":15},\"zerolinecolor\":\"white\",\"automargin\":true,\"zerolinewidth\":2},\"scene\":{\"xaxis\":{\"backgroundcolor\":\"#E5ECF6\",\"gridcolor\":\"white\",\"linecolor\":\"white\",\"showbackground\":true,\"ticks\":\"\",\"zerolinecolor\":\"white\",\"gridwidth\":2},\"yaxis\":{\"backgroundcolor\":\"#E5ECF6\",\"gridcolor\":\"white\",\"linecolor\":\"white\",\"showbackground\":true,\"ticks\":\"\",\"zerolinecolor\":\"white\",\"gridwidth\":2},\"zaxis\":{\"backgroundcolor\":\"#E5ECF6\",\"gridcolor\":\"white\",\"linecolor\":\"white\",\"showbackground\":true,\"ticks\":\"\",\"zerolinecolor\":\"white\",\"gridwidth\":2}},\"shapedefaults\":{\"line\":{\"color\":\"#2a3f5f\"}},\"annotationdefaults\":{\"arrowcolor\":\"#2a3f5f\",\"arrowhead\":0,\"arrowwidth\":1},\"geo\":{\"bgcolor\":\"white\",\"landcolor\":\"#E5ECF6\",\"subunitcolor\":\"white\",\"showland\":true,\"showlakes\":true,\"lakecolor\":\"white\"},\"title\":{\"x\":0.05},\"mapbox\":{\"style\":\"light\"}}},\"showlegend\":false,\"plot_bgcolor\":\"rgba(0,0,0,0)\"},                        {\"responsive\": true}                    ).then(function(){\n",
       "                            Plotly.addFrames('5509d2c3-8942-4a1c-8836-f7638f39419b', [{\"data\":[{\"colorscale\":[[0.0,\"rgb(165,0,38)\"],[0.1,\"rgb(215,48,39)\"],[0.2,\"rgb(244,109,67)\"],[0.3,\"rgb(253,174,97)\"],[0.4,\"rgb(254,224,139)\"],[0.5,\"rgb(255,255,191)\"],[0.6,\"rgb(217,239,139)\"],[0.7,\"rgb(166,217,106)\"],[0.8,\"rgb(102,189,99)\"],[0.9,\"rgb(26,152,80)\"],[1.0,\"rgb(0,104,55)\"]],\"showlegend\":false,\"showscale\":false,\"texttemplate\":\"%{z}\",\"z\":[[0.0,0.0,0.0,0.0,0.0,0.0],[0.0,0.0,0.0,0.0,0.0,0.0],[0.0,0.0,0.0,0.0,0.0,0.0],[0.0,0.0,0.0,0.0,0.0,0.0]],\"zmax\":10,\"zmin\":-10,\"type\":\"heatmap\"}],\"name\":\"0\"},{\"data\":[{\"colorscale\":[[0.0,\"rgb(165,0,38)\"],[0.1,\"rgb(215,48,39)\"],[0.2,\"rgb(244,109,67)\"],[0.3,\"rgb(253,174,97)\"],[0.4,\"rgb(254,224,139)\"],[0.5,\"rgb(255,255,191)\"],[0.6,\"rgb(217,239,139)\"],[0.7,\"rgb(166,217,106)\"],[0.8,\"rgb(102,189,99)\"],[0.9,\"rgb(26,152,80)\"],[1.0,\"rgb(0,104,55)\"]],\"showlegend\":false,\"showscale\":false,\"texttemplate\":\"%{z}\",\"z\":[[-10.0,-1.0,-1.0,-1.0,-1.0,-1.0],[3.0,2.0,-1.0,-5.0,-1.0,-1.0],[2.0,-1.0,-1.0,-1.0,-1.0,9.0],[-5.0,-1.0,-1.0,-1.0,9.0,10.0]],\"zmax\":10,\"zmin\":-10,\"type\":\"heatmap\"}],\"name\":\"1\"},{\"data\":[{\"colorscale\":[[0.0,\"rgb(165,0,38)\"],[0.1,\"rgb(215,48,39)\"],[0.2,\"rgb(244,109,67)\"],[0.3,\"rgb(253,174,97)\"],[0.4,\"rgb(254,224,139)\"],[0.5,\"rgb(255,255,191)\"],[0.6,\"rgb(217,239,139)\"],[0.7,\"rgb(166,217,106)\"],[0.8,\"rgb(102,189,99)\"],[0.9,\"rgb(26,152,80)\"],[1.0,\"rgb(0,104,55)\"]],\"showlegend\":false,\"showscale\":false,\"texttemplate\":\"%{z}\",\"z\":[[-10.0,1.0,-2.0,-2.0,-2.0,-2.0],[3.0,2.0,1.0,-5.0,-2.0,8.0],[2.0,1.0,-2.0,-2.0,8.0,9.0],[-5.0,-2.0,-2.0,8.0,9.0,10.0]],\"zmax\":10,\"zmin\":-10,\"type\":\"heatmap\"}],\"name\":\"2\"},{\"data\":[{\"colorscale\":[[0.0,\"rgb(165,0,38)\"],[0.1,\"rgb(215,48,39)\"],[0.2,\"rgb(244,109,67)\"],[0.3,\"rgb(253,174,97)\"],[0.4,\"rgb(254,224,139)\"],[0.5,\"rgb(255,255,191)\"],[0.6,\"rgb(217,239,139)\"],[0.7,\"rgb(166,217,106)\"],[0.8,\"rgb(102,189,99)\"],[0.9,\"rgb(26,152,80)\"],[1.0,\"rgb(0,104,55)\"]],\"showlegend\":false,\"showscale\":false,\"texttemplate\":\"%{z}\",\"z\":[[-10.0,1.0,0.0,-3.0,-3.0,7.0],[3.0,2.0,1.0,-5.0,7.0,8.0],[2.0,1.0,0.0,7.0,8.0,9.0],[-5.0,0.0,7.0,8.0,9.0,10.0]],\"zmax\":10,\"zmin\":-10,\"type\":\"heatmap\"}],\"name\":\"3\"},{\"data\":[{\"colorscale\":[[0.0,\"rgb(165,0,38)\"],[0.1,\"rgb(215,48,39)\"],[0.2,\"rgb(244,109,67)\"],[0.3,\"rgb(253,174,97)\"],[0.4,\"rgb(254,224,139)\"],[0.5,\"rgb(255,255,191)\"],[0.6,\"rgb(217,239,139)\"],[0.7,\"rgb(166,217,106)\"],[0.8,\"rgb(102,189,99)\"],[0.9,\"rgb(26,152,80)\"],[1.0,\"rgb(0,104,55)\"]],\"showlegend\":false,\"showscale\":false,\"texttemplate\":\"%{z}\",\"z\":[[-10.0,1.0,0.0,-1.0,6.0,7.0],[3.0,2.0,1.0,-5.0,7.0,8.0],[2.0,1.0,6.0,7.0,8.0,9.0],[-5.0,6.0,7.0,8.0,9.0,10.0]],\"zmax\":10,\"zmin\":-10,\"type\":\"heatmap\"}],\"name\":\"4\"},{\"data\":[{\"colorscale\":[[0.0,\"rgb(165,0,38)\"],[0.1,\"rgb(215,48,39)\"],[0.2,\"rgb(244,109,67)\"],[0.3,\"rgb(253,174,97)\"],[0.4,\"rgb(254,224,139)\"],[0.5,\"rgb(255,255,191)\"],[0.6,\"rgb(217,239,139)\"],[0.7,\"rgb(166,217,106)\"],[0.8,\"rgb(102,189,99)\"],[0.9,\"rgb(26,152,80)\"],[1.0,\"rgb(0,104,55)\"]],\"showlegend\":false,\"showscale\":false,\"texttemplate\":\"%{z}\",\"z\":[[-10.0,1.0,0.0,5.0,6.0,7.0],[3.0,2.0,5.0,-5.0,7.0,8.0],[2.0,5.0,6.0,7.0,8.0,9.0],[-5.0,6.0,7.0,8.0,9.0,10.0]],\"zmax\":10,\"zmin\":-10,\"type\":\"heatmap\"}],\"name\":\"5\"},{\"data\":[{\"colorscale\":[[0.0,\"rgb(165,0,38)\"],[0.1,\"rgb(215,48,39)\"],[0.2,\"rgb(244,109,67)\"],[0.3,\"rgb(253,174,97)\"],[0.4,\"rgb(254,224,139)\"],[0.5,\"rgb(255,255,191)\"],[0.6,\"rgb(217,239,139)\"],[0.7,\"rgb(166,217,106)\"],[0.8,\"rgb(102,189,99)\"],[0.9,\"rgb(26,152,80)\"],[1.0,\"rgb(0,104,55)\"]],\"showlegend\":false,\"showscale\":false,\"texttemplate\":\"%{z}\",\"z\":[[-10.0,1.0,4.0,5.0,6.0,7.0],[3.0,4.0,5.0,-5.0,7.0,8.0],[4.0,5.0,6.0,7.0,8.0,9.0],[-5.0,6.0,7.0,8.0,9.0,10.0]],\"zmax\":10,\"zmin\":-10,\"type\":\"heatmap\"}],\"name\":\"6\"},{\"data\":[{\"colorscale\":[[0.0,\"rgb(165,0,38)\"],[0.1,\"rgb(215,48,39)\"],[0.2,\"rgb(244,109,67)\"],[0.3,\"rgb(253,174,97)\"],[0.4,\"rgb(254,224,139)\"],[0.5,\"rgb(255,255,191)\"],[0.6,\"rgb(217,239,139)\"],[0.7,\"rgb(166,217,106)\"],[0.8,\"rgb(102,189,99)\"],[0.9,\"rgb(26,152,80)\"],[1.0,\"rgb(0,104,55)\"]],\"showlegend\":false,\"showscale\":false,\"texttemplate\":\"%{z}\",\"z\":[[-10.0,3.0,4.0,5.0,6.0,7.0],[3.0,4.0,5.0,-5.0,7.0,8.0],[4.0,5.0,6.0,7.0,8.0,9.0],[-5.0,6.0,7.0,8.0,9.0,10.0]],\"zmax\":10,\"zmin\":-10,\"type\":\"heatmap\"}],\"name\":\"7\"},{\"data\":[{\"colorscale\":[[0.0,\"rgb(165,0,38)\"],[0.1,\"rgb(215,48,39)\"],[0.2,\"rgb(244,109,67)\"],[0.3,\"rgb(253,174,97)\"],[0.4,\"rgb(254,224,139)\"],[0.5,\"rgb(255,255,191)\"],[0.6,\"rgb(217,239,139)\"],[0.7,\"rgb(166,217,106)\"],[0.8,\"rgb(102,189,99)\"],[0.9,\"rgb(26,152,80)\"],[1.0,\"rgb(0,104,55)\"]],\"showlegend\":false,\"showscale\":false,\"texttemplate\":\"%{z}\",\"z\":[[-10.0,3.0,4.0,5.0,6.0,7.0],[3.0,4.0,5.0,-5.0,7.0,8.0],[4.0,5.0,6.0,7.0,8.0,9.0],[-5.0,6.0,7.0,8.0,9.0,10.0]],\"zmax\":10,\"zmin\":-10,\"type\":\"heatmap\"}],\"name\":\"8\"}]);\n",
       "                        }).then(function(){\n",
       "                            \n",
       "var gd = document.getElementById('5509d2c3-8942-4a1c-8836-f7638f39419b');\n",
       "var x = new MutationObserver(function (mutations, observer) {{\n",
       "        var display = window.getComputedStyle(gd).display;\n",
       "        if (!display || display === 'none') {{\n",
       "            console.log([gd, 'removed!']);\n",
       "            Plotly.purge(gd);\n",
       "            observer.disconnect();\n",
       "        }}\n",
       "}});\n",
       "\n",
       "// Listen for the removal of the full notebook cells\n",
       "var notebookContainer = gd.closest('#notebook-container');\n",
       "if (notebookContainer) {{\n",
       "    x.observe(notebookContainer, {childList: true});\n",
       "}}\n",
       "\n",
       "// Listen for the clearing of the current output cell\n",
       "var outputEl = gd.closest('.output');\n",
       "if (outputEl) {{\n",
       "    x.observe(outputEl, {childList: true});\n",
       "}}\n",
       "\n",
       "                        })                };                });            </script>        </div>"
      ]
     },
     "metadata": {},
     "output_type": "display_data"
    }
   ],
   "source": [
    "video_full = Video_callback(env.shape, value_range = (rewards.min(), rewards.max()))\n",
    "# Run policy iteration on Grid world\n",
    "pi_star, V_star = value_iteration(env, verbose = 0, callback = video_full)\n",
    "\n",
    "video_full.plot().show()"
   ]
  },
  {
   "cell_type": "code",
   "execution_count": 10,
   "metadata": {},
   "outputs": [
    {
     "data": {
      "image/png": "[encoded data removed]",
      "text/plain": [
       "<Figure size 640x480 with 1 Axes>"
      ]
     },
     "metadata": {},
     "output_type": "display_data"
    }
   ],
   "source": [
    "env.grid_print(V_star.reshape(env.shape))"
   ]
  },
  {
   "cell_type": "code",
   "execution_count": 11,
   "metadata": {},
   "outputs": [
    {
     "name": "stdout",
     "output_type": "stream",
     "text": [
      "Optimal Policy\n",
      " [[0.25 0.25 0.25 0.25]\n",
      " [0.   1.   0.   0.  ]\n",
      " [0.   1.   0.   0.  ]\n",
      " [0.   1.   0.   0.  ]\n",
      " [0.   1.   0.   0.  ]\n",
      " [0.25 0.25 0.25 0.25]\n",
      " [0.   1.   0.   0.  ]\n",
      " [0.5  0.5  0.   0.  ]\n",
      " [0.5  0.5  0.   0.  ]\n",
      " [0.5  0.5  0.   0.  ]\n",
      " [0.5  0.5  0.   0.  ]\n",
      " [1.   0.   0.   0.  ]\n",
      " [0.25 0.25 0.25 0.25]\n",
      " [0.5  0.5  0.   0.  ]\n",
      " [1.   0.   0.   0.  ]\n",
      " [0.25 0.25 0.25 0.25]\n",
      " [0.5  0.5  0.   0.  ]\n",
      " [1.   0.   0.   0.  ]\n",
      " [0.25 0.25 0.25 0.25]\n",
      " [0.5  0.5  0.   0.  ]\n",
      " [0.5  0.5  0.   0.  ]\n",
      " [0.   1.   0.   0.  ]\n",
      " [0.5  0.5  0.   0.  ]\n",
      " [1.   0.   0.   0.  ]]\n"
     ]
    }
   ],
   "source": [
    "# Print Optimal policy\n",
    "print(\"Optimal Policy\\n\", pi_star)"
   ]
  },
  {
   "cell_type": "code",
   "execution_count": 13,
   "metadata": {},
   "outputs": [
    {
     "data": {
      "image/png": "[encoded data removed]",
      "text/plain": [
       "<Figure size 640x480 with 1 Axes>"
      ]
     },
     "metadata": {},
     "output_type": "display_data"
    }
   ],
   "source": [
    "env.policy_print(V_star, pi_star)"
   ]
  },
  {
   "attachments": {},
   "cell_type": "markdown",
   "metadata": {},
   "source": [
    "# Policy Iteration"
   ]
  },
  {
   "cell_type": "code",
   "execution_count": 15,
   "metadata": {},
   "outputs": [],
   "source": [
    "# Policy Iteration\n",
    "\n",
    "def policy_evaluation(policy, env, discount_factor=1.0, theta=0.00001):\n",
    "    \"\"\"\n",
    "    Evaluate a policy given an environment and\n",
    "    a full description of the environment's dynamics.\n",
    "\n",
    "    Args:\n",
    "        policy:[S, A] shaped matrix representing the policy. Random in our case\n",
    "        env: OpenAI env. env.P -> transition dynamics of the environment.\n",
    "            env.P[s][a] [(prob, next_state, reward, done)].\n",
    "            env.nS is number of states in the environment.\n",
    "            env.nA is number of actions in the environment.\n",
    "        theta: Stop evaluation once value function change is\n",
    "            less than theta for all states.\n",
    "        discount_factor: Gamma discount factor.\n",
    "\n",
    "    Returns:\n",
    "        Vector of length env.nS representing the value function.\n",
    "    \"\"\"\n",
    "    # Start with a (all 0) value function\n",
    "    V = np.zeros(env.nS)\n",
    "    V_new = np.copy(V)\n",
    "    while True:\n",
    "        delta = 0\n",
    "        # For each state, perform a \"backup\"\n",
    "        for s in range(env.nS):\n",
    "            v = 0\n",
    "            # Look at the possible next actions\n",
    "            for a, pi_a in enumerate(policy[s]):\n",
    "                # For each action, look at the possible next states...\n",
    "                for prob, next_state, reward, done in env.P[s][a]:\n",
    "                    # Calculate the expected value as per backup diagram\n",
    "                    v += pi_a * prob * \\\n",
    "                        (reward + discount_factor * V[next_state])\n",
    "            # How much our value function changed (across any states)\n",
    "            V_new[s] = v\n",
    "            delta = max(delta, np.abs(V_new[s] - V[s]))\n",
    "        V = np.copy(V_new)\n",
    "        # Stop if change is below a threshold\n",
    "        if delta < theta:\n",
    "            break\n",
    "    return np.array(V)"
   ]
  },
  {
   "cell_type": "code",
   "execution_count": 16,
   "metadata": {},
   "outputs": [],
   "source": [
    "# Policy Improvement\n",
    "\n",
    "def policy_improvement(policy, V, env, discount_factor=1.0):\n",
    "    \"\"\"\n",
    "    Improve a policy given an environment and a full description\n",
    "    of the environment's dynamics and the state-values V.\n",
    "\n",
    "    Args:\n",
    "        policy: [S, A] shaped matrix representing the policy.\n",
    "        V: current state-value for the given policy\n",
    "        env: OpenAI env. env.P -> transition dynamics of the environment.\n",
    "            env.P[s][a] [(prob, next_state, reward, done)].\n",
    "            env.nS is number of states in the environment.\n",
    "            env.nA is number of actions in the environment.\n",
    "        discount_factor: Gamma discount factor.\n",
    "\n",
    "    Returns:\n",
    "        policy: [S, A] shaped matrix representing improved policy.\n",
    "        policy_changed: boolean which has value of `True` if there\n",
    "                        was a change in policy\n",
    "    \"\"\"\n",
    "\n",
    "    def argmax_a(arr):\n",
    "        \"\"\"\n",
    "        Return idxs of all max values in an array.\n",
    "        \"\"\"\n",
    "        max_idx = []\n",
    "        max_val = float('-inf')\n",
    "        for idx, elem in enumerate(arr):\n",
    "            if elem == max_val:\n",
    "                max_idx.append(idx)\n",
    "            elif elem > max_val:\n",
    "                max_idx = [idx]\n",
    "                max_val = elem\n",
    "        return max_idx\n",
    "\n",
    "    policy_changed = False\n",
    "    Q = np.zeros([env.nS, env.nA])\n",
    "    new_policy = np.zeros([env.nS, env.nA])\n",
    "\n",
    "    # For each state, perform a \"greedy improvement\"\n",
    "    for s in range(env.nS):\n",
    "        old_action = np.array(policy[s])\n",
    "        for a in range(env.nA):\n",
    "            for prob, next_state, reward, done in env.P[s][a]:\n",
    "                # Calculate the expected value as per backup diagram\n",
    "                Q[s, a] += prob * (reward + discount_factor * V[next_state])\n",
    "\n",
    "        # get maximizing actions and set new policy for state s\n",
    "        best_actions = argmax_a(Q[s])\n",
    "        new_policy[s, best_actions] = 1.0 / len(best_actions)\n",
    "\n",
    "    if not np.allclose(new_policy[s], policy[s]):\n",
    "        policy_changed = True\n",
    "\n",
    "    return new_policy, policy_changed"
   ]
  },
  {
   "cell_type": "code",
   "execution_count": 17,
   "metadata": {},
   "outputs": [],
   "source": [
    "# Policy Iteration\n",
    "\n",
    "def policy_iteration(env, discount_factor=1.0, theta=0.00001):\n",
    "\n",
    "    # initialize a random policy\n",
    "    policy = np.ones([env.nS, env.nA]) / env.nA\n",
    "    while True:\n",
    "        V = policy_evaluation(policy, env, discount_factor, theta)\n",
    "        policy, changed = policy_improvement(policy, V, env, discount_factor)\n",
    "        if not changed:  # terminate iteration once no improvement is observed\n",
    "            V_optimal = policy_evaluation(policy, env, discount_factor, theta)\n",
    "            print(\"Optimal Policy\\n\", policy)\n",
    "            return np.array(V_optimal)"
   ]
  },
  {
   "cell_type": "code",
   "execution_count": 18,
   "metadata": {},
   "outputs": [
    {
     "data": {
      "text/plain": [
       "12"
      ]
     },
     "execution_count": 18,
     "metadata": {},
     "output_type": "execute_result"
    }
   ],
   "source": [
    "env.reset()"
   ]
  },
  {
   "cell_type": "code",
   "execution_count": 19,
   "metadata": {},
   "outputs": [],
   "source": [
    "# Run policy iteration on Grid world\n",
    "V_star = policy_iteration(env)\n",
    "\n",
    "# Print optimal policy state values\n",
    "env.grid_print(V_star.reshape(env.shape))"
   ]
  },
  {
   "cell_type": "code",
   "execution_count": null,
   "metadata": {},
   "outputs": [],
   "source": [
    "# Summary"
   ]
  }
 ],
 "metadata": {
  "kernelspec": {
   "display_name": "venv",
   "language": "python",
   "name": "python3"
  },
  "language_info": {
   "codemirror_mode": {
    "name": "ipython",
    "version": 3
   },
   "file_extension": ".py",
   "mimetype": "text/x-python",
   "name": "python",
   "nbconvert_exporter": "python",
   "pygments_lexer": "ipython3",
   "version": "3.8.6"
  },
  "orig_nbformat": 4
 },
 "nbformat": 4,
 "nbformat_minor": 2
}
