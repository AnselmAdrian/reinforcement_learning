{
 "cells": [
  {
   "cell_type": "code",
   "execution_count": 4,
   "metadata": {},
   "outputs": [],
   "source": [
    "import glob\n",
    "from PIL import Image\n",
    "\n",
    "import os\n",
    "\n",
    "if 'notebook' in os.getcwd():\n",
    "    os.chdir('..')"
   ]
  },
  {
   "cell_type": "code",
   "execution_count": 20,
   "metadata": {},
   "outputs": [],
   "source": [
    "def make_gif(frame_folder, output_filename, filetype = 'png', duration = 100):\n",
    "    frames = [Image.open(image) for image in glob.glob(f\"{frame_folder}/*.{filetype}\")]\n",
    "    print(f'Detected {len(frames)} frames')\n",
    "    frame_one = frames[0]\n",
    "    frame_one.save(output_filename, format=\"GIF\", append_images=frames,\n",
    "               save_all=True, duration=duration, loop=0)"
   ]
  },
  {
   "cell_type": "code",
   "execution_count": 27,
   "metadata": {},
   "outputs": [
    {
     "name": "stdout",
     "output_type": "stream",
     "text": [
      "Detected 25 frames\n"
     ]
    }
   ],
   "source": [
    "folder_path = 'data/07_model_output/value_iteration/first_iteration'\n",
    "output_filename = folder_path + '.gif'\n",
    "make_gif(folder_path, output_filename, duration = 1000)"
   ]
  },
  {
   "cell_type": "code",
   "execution_count": 28,
   "metadata": {},
   "outputs": [
    {
     "name": "stdout",
     "output_type": "stream",
     "text": [
      "Detected 25 frames\n"
     ]
    }
   ],
   "source": [
    "folder_path = 'data/07_model_output/value_iteration/second_iteration'\n",
    "output_filename = folder_path + '.gif'\n",
    "make_gif(folder_path, output_filename, duration = 1000)"
   ]
  },
  {
   "cell_type": "code",
   "execution_count": 29,
   "metadata": {},
   "outputs": [
    {
     "name": "stdout",
     "output_type": "stream",
     "text": [
      "Detected 9 frames\n"
     ]
    }
   ],
   "source": [
    "folder_path = 'data/07_model_output/value_iteration/complete_iteration'\n",
    "output_filename = folder_path + '.gif'\n",
    "make_gif(folder_path, output_filename, duration = 1000)"
   ]
  },
  {
   "cell_type": "code",
   "execution_count": null,
   "metadata": {},
   "outputs": [],
   "source": []
  }
 ],
 "metadata": {
  "kernelspec": {
   "display_name": "venv",
   "language": "python",
   "name": "python3"
  },
  "language_info": {
   "codemirror_mode": {
    "name": "ipython",
    "version": 3
   },
   "file_extension": ".py",
   "mimetype": "text/x-python",
   "name": "python",
   "nbconvert_exporter": "python",
   "pygments_lexer": "ipython3",
   "version": "3.9.13"
  },
  "orig_nbformat": 4
 },
 "nbformat": 4,
 "nbformat_minor": 2
}
